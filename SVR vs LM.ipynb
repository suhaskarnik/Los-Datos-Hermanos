{
 "cells": [
  {
   "cell_type": "markdown",
   "metadata": {},
   "source": [
    "First create some helper functions to generate the data etc"
   ]
  },
  {
   "cell_type": "code",
   "execution_count": 1,
   "metadata": {
    "collapsed": false
   },
   "outputs": [
    {
     "name": "stderr",
     "output_type": "stream",
     "text": [
      "Warning message:\n",
      "\"package 'e1071' was built under R version 3.3.3\""
     ]
    }
   ],
   "source": [
    "library(e1071)\n",
    "set.seed(1)\n",
    "x=seq(1:400)\n",
    "train=sample(1:400,200)\n",
    "\n",
    "genData = function(w,x,b,noise){\n",
    "    \n",
    "    return (((w %*% x) + b + noise*runif(n=length(x),min=-1,max=1))[1,])\n",
    "    \n",
    "}"
   ]
  },
  {
   "cell_type": "markdown",
   "metadata": {},
   "source": [
    "This function will show the data and also an envelope around the noise (but not around spikes)"
   ]
  },
  {
   "cell_type": "code",
   "execution_count": 2,
   "metadata": {
    "collapsed": true
   },
   "outputs": [],
   "source": [
    "plotData=function(y,w,x,b,noise){\n",
    "    plot(x,y)\n",
    "    abline(b,w,col=\"green\",lty=\"dashed\")\n",
    "    abline(b+(noise),w,col=\"blue\",lty=\"dashed\")\n",
    "    abline(b-(noise),w,col=\"blue\",lty=\"dashed\")\n",
    "}"
   ]
  },
  {
   "cell_type": "markdown",
   "metadata": {},
   "source": [
    "Helper functions to run the LM/SVR/Tuned SVR and also to calculte the MSE"
   ]
  },
  {
   "cell_type": "code",
   "execution_count": 3,
   "metadata": {
    "collapsed": false
   },
   "outputs": [],
   "source": [
    "lmcaller=function(y,x,train){\n",
    "    df=as.data.frame(cbind(x,y))    \n",
    "    ytest = y[-train]\n",
    "    model=lm(y~x,data=df,subset=train)\n",
    "    yhat=predict(model,newdata=df[-train,])    \n",
    "    list(coef = model$coef,MSE=MSE(ytest,yhat),yhat=yhat)\n",
    "}\n",
    "\n",
    "svrcaller=function(y,x,train){\n",
    "    df=as.data.frame(cbind(x,y))    \n",
    "    ytest = y[-train]\n",
    "    model=svm(y~x,data=df,subset=train)\n",
    "    yhat=predict(model,newdata=df[-train,])    \n",
    "    list(MSE=MSE(ytest,yhat),yhat=yhat)\n",
    "}\n",
    "\n",
    "tunedSvrCaller=function(y,x,train){\n",
    "    df=as.data.frame(cbind(x,y))\n",
    "    ytest = y[-train]\n",
    "    xtest = x[-train]\n",
    "    tuner=tune(svm,y~x,data=df[train,],\n",
    "                  ranges=list(epsilon=seq(0,0.2,0.01),cost=2^(2:5)))\n",
    "    \n",
    "    # tuner can be plotted using the plot(tuner) function. But I won't do that now.\n",
    "    \n",
    "    tunedModel = tuner$best.model\n",
    "    yhat=predict(tunedModel,newdata=df[-train,])\n",
    "    list(MSE=MSE(ytest,yhat),yhat=yhat)\n",
    "}\n",
    "\n",
    "MSE=function(y,yhat){\n",
    "    sqrt(mean((yhat-y)^2))\n",
    "}"
   ]
  },
  {
   "cell_type": "markdown",
   "metadata": {},
   "source": [
    "A helper function to run the regressions and plot the data and errors "
   ]
  },
  {
   "cell_type": "code",
   "execution_count": 4,
   "metadata": {
    "collapsed": true
   },
   "outputs": [],
   "source": [
    "runRegression=function(y,w,x,b,noise,train,title){\n",
    "    \n",
    "    ytest=y[-train]\n",
    "    xtest=x[-train]\n",
    "\n",
    "    lr=lmcaller(y,x,train)\n",
    "    svr=svrcaller(y,x,train)    \n",
    "    tsvr=tunedSvrCaller(y,x,train)\n",
    "    \n",
    "    results = list(\n",
    "        MSE=as.vector(cbind(\n",
    "            LR_MSE=lr$MSE,\n",
    "            SVR_MSE=svr$MSE,\n",
    "            TSVR_MSE=tsvr$MSE\n",
    "        )),\n",
    "        LM_COEF=lr$coef\n",
    "    )\n",
    "    \n",
    "    minMSE = which.min(results$MSE)\n",
    "    \n",
    "    #par(mfrow=c(2,2))\n",
    "    plotData(y,w,x,b,noise)\n",
    "    title(title)\n",
    "    barplot(results$MSE,\n",
    "        col=ifelse(1:3 == minMSE,\"green\",\"red\"),\n",
    "        names=c(\"LM\",\"SVR\",\"Tuned SVR\")\n",
    "    )\n",
    "    \n",
    "}"
   ]
  },
  {
   "cell_type": "markdown",
   "metadata": {},
   "source": [
    "Now lets create the data. Let's begin by simulating some data that satisfies $$y=w\\cdot x + b + \\epsilon$$\n",
    "\n",
    "Where $w=1$ and $b=10$"
   ]
  },
  {
   "cell_type": "markdown",
   "metadata": {},
   "source": [
    "##### Case1: A moderate amount of noise, no spikes"
   ]
  },
  {
   "cell_type": "code",
   "execution_count": 5,
   "metadata": {
    "collapsed": true
   },
   "outputs": [],
   "source": [
    "case1 = function(){    \n",
    "    w=1\n",
    "    b=10\n",
    "    noise=15\n",
    "    y=genData(w,x,b,noise)\n",
    "    runRegression(y,w,x,b,noise,train,\"Case1\")\n",
    "}"
   ]
  },
  {
   "cell_type": "markdown",
   "metadata": {},
   "source": [
    "##### Case2: A large amount of noise, no spikes"
   ]
  },
  {
   "cell_type": "code",
   "execution_count": 6,
   "metadata": {
    "collapsed": true
   },
   "outputs": [],
   "source": [
    "case2 = function(){    \n",
    "    w=1\n",
    "    b=10\n",
    "    noise=50\n",
    "    y=genData(w,x,b,noise)\n",
    "    runRegression(y,w,x,b,noise,train,\"Case2\")\n",
    "}"
   ]
  },
  {
   "cell_type": "markdown",
   "metadata": {},
   "source": [
    "###### Case3: A very small amount of noise, no spikes"
   ]
  },
  {
   "cell_type": "code",
   "execution_count": 7,
   "metadata": {
    "collapsed": true
   },
   "outputs": [],
   "source": [
    "case3 = function(){    \n",
    "    w=1\n",
    "    b=10\n",
    "    noise=0.5\n",
    "    y=genData(w,x,b,noise)\n",
    "    runRegression(y,w,x,b,noise,train,\"Case3\")\n",
    "}"
   ]
  },
  {
   "cell_type": "markdown",
   "metadata": {},
   "source": [
    "##### Case4: Moderate noise, 10% of data has some spikes"
   ]
  },
  {
   "cell_type": "code",
   "execution_count": 8,
   "metadata": {
    "collapsed": true
   },
   "outputs": [],
   "source": [
    "case4 = function(){    \n",
    "    w=1\n",
    "    b=10\n",
    "    noise=15\n",
    "    y=genData(w,x,b,noise)\n",
    "    \n",
    "    #Now add some spikes at certain indices \n",
    "    indices=sample(1:length(y),length(y)/10)\n",
    "    y[indices]=y[indices]+ 100*runif(length(indices),min=-1,max=1)\n",
    "    runRegression(y,w,x,b,noise,train,\"Case4\")\n",
    "}"
   ]
  },
  {
   "cell_type": "markdown",
   "metadata": {},
   "source": [
    "##### Case5: Moderate noise, 5% of data has big spikes"
   ]
  },
  {
   "cell_type": "code",
   "execution_count": 9,
   "metadata": {
    "collapsed": true
   },
   "outputs": [],
   "source": [
    "case5 = function(){    \n",
    "    w=1\n",
    "    b=10\n",
    "    noise=15\n",
    "    y=genData(w,x,b,noise)\n",
    "    \n",
    "    #Now add even more extra spiky obs, every 5th record will be a spike\n",
    "    indices=sample(1:length(y),length(y)/5)\n",
    "    y[indices]=y[indices]+ 100*runif(length(indices),min=-1,max=1)\n",
    "    runRegression(y,w,x,b,noise,train,\"Case5\")\n",
    "}"
   ]
  },
  {
   "cell_type": "markdown",
   "metadata": {},
   "source": [
    "##### Case6: Moderate noise, 5% of data has huge spikes"
   ]
  },
  {
   "cell_type": "code",
   "execution_count": 10,
   "metadata": {
    "collapsed": true
   },
   "outputs": [],
   "source": [
    "case6 = function(){    \n",
    "    w=1\n",
    "    b=10\n",
    "    noise=15\n",
    "    y=genData(w,x,b,noise)\n",
    "    \n",
    "    #Now add even more extra spiky obs, every 5th record will be a spike, and the size of the spikes is bigger \n",
    "    indices=sample(1:length(y),length(y)/5)\n",
    "    y[indices]=y[indices]+ 500*runif(length(indices),min=-1,max=1)\n",
    "    runRegression(y,w,x,b,noise,train,\"Case6\")\n",
    "}"
   ]
  },
  {
   "cell_type": "markdown",
   "metadata": {},
   "source": [
    "### Now run all the cases"
   ]
  },
  {
   "cell_type": "code",
   "execution_count": 11,
   "metadata": {
    "collapsed": false,
    "scrolled": false
   },
   "outputs": [
    {
     "data": {
      "image/png": "[encoded data removed]",
      "text/plain": [
       "Plot with title \"Case2\""
      ]
     },
     "metadata": {},
     "output_type": "display_data"
    },
    {
     "data": {
      "image/png": "[encoded data removed]",
      "text/plain": [
       "Plot with title \"Case4\""
      ]
     },
     "metadata": {},
     "output_type": "display_data"
    },
    {
     "data": {
      "image/png": "[encoded data removed]",
      "text/plain": [
       "Plot with title \"Case6\""
      ]
     },
     "metadata": {},
     "output_type": "display_data"
    }
   ],
   "source": [
    "par(mfrow=c(2,2))\n",
    "case1()\n",
    "case2()\n",
    "case3()\n",
    "case4()\n",
    "case5()\n",
    "case6()"
   ]
  }
 ],
 "metadata": {
  "kernelspec": {
   "display_name": "R",
   "language": "R",
   "name": "ir"
  },
  "language_info": {
   "codemirror_mode": "r",
   "file_extension": ".r",
   "mimetype": "text/x-r-source",
   "name": "R",
   "pygments_lexer": "r",
   "version": "3.3.1"
  }
 },
 "nbformat": 4,
 "nbformat_minor": 2
}
