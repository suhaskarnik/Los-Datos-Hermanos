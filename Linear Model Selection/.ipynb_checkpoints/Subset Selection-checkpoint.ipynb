{
 "cells": [
  {
   "cell_type": "markdown",
   "metadata": {},
   "source": [
    "# Subset Selection\n",
    "\n",
    "Identify a subset of the *p* predictors that are believed to be related with the response. Then do an `lm` against those *p* predictors.\n",
    "\n",
    "But before that, let's define the term $R^2$\n",
    "\n",
    "Say that $\\bar{y}$ is the mean of the observed data. Then,\n",
    "$$\\bar{y} = \\frac{1}{n}\\sum_{i=1}^n y_i$$\n",
    "\n",
    "Then total Sum of squares is proportional to the variance of the data\n",
    "\n",
    "$$SS_{tot} = \\sum_{i=1}^n(y_i-\\bar{y})^2$$\n",
    "\n",
    "And the residual sum of squares (RSS) is sum of squares of all errors\n",
    "\n",
    "$$SS_{res} = RSS = \\sum_{i=1}^n(y_i - \\hat y_i)^2 = \\sum_{i=1}^n e_i^2$$\n",
    "\n",
    "Where $\\hat y_i$ is the predicted value for $y_i$ and therefore, $e_i$ is the $i^{th}$ error term.\n",
    "\n",
    "Given the above, $R^2$ is defined as \n",
    "\n",
    "$$R^2 \\equiv 1- \\frac{SS_{res}}{SS_{tot}}$$\n",
    "\n",
    "So, if the RSS is high, then $R^2$ goes down. For more info, check [wiki](https://en.wikipedia.org/wiki/Coefficient_of_determination)"
   ]
  },
  {
   "cell_type": "markdown",
   "metadata": {},
   "source": [
    "## Choosing the Optimal Model\n",
    "\n",
    "So far we've talked about RSS and $R^2$. However, the model with all predictors will always have the highest $R^2$, because these quantities are related to the *training error*. But we want to minimize the *test error*. So these measures are not appropriate.\n",
    "\n",
    "To select the model with the minimum test error, we need to first estimate the test error. Two approaches:\n",
    "\n",
    "1. Indirectly estimate it by making an *adjustment* to the training error\n",
    "2. Directly estimate it using a validation set/cross-validation approach\n",
    "\n",
    "### $C_p$, AIC, BIC, Adjusted $R^2$\n",
    "\n",
    "The training set MSE is usually an under-estimate of the testing set MSE. That's because when we fit a model to the training data, it estimates the coefficients specifically to minimise the training MSE.\n",
    "\n",
    "But we can adjust the training error for a given model size\n",
    "\n",
    "##### $C_p$ Estimate\n",
    "For a fitted LM containing *d* predictors, the $C_p$ estimate of test MSE is:\n",
    "$$C_p = \\frac{1}{n}(RSS + 2d\\hat \\sigma^2)$$\n",
    "\n",
    "Where $\\hat \\sigma^2$ is an estimate of the variance error $\\epsilon$ for each response measurement. In other words, $C_p$ adds a penalty of $2d\\hat \\sigma^2$ to compensate for the fact that training error underestimates test error. As $C_p$ is proportional to the error, a low $C_p$ is preferred\n",
    "\n",
    "\n",
    "##### AIC Estimate\n",
    "Akaike information criterion (AIC) is given by \n",
    "\n",
    "$$AIC = \\frac{1}{n\\hat\\sigma^2}(RSS + 2d\\hat \\sigma^2)$$\n",
    "\n",
    "Rather similar to $C_p$, the only difference being that AIC is also inversely proportional to $\\hat\\sigma^2$. Here too, we seek to minimize AIC\n",
    "\n",
    "##### BIC Estimate\n",
    "Bayesian information criterion (BIC) is given by\n",
    "\n",
    "$$BIC = \\frac{1}{n}(RSS + log(n)d\\hat \\sigma^2)$$\n",
    "\n",
    "We seek to minimize BIC as well. Note: log(n)>2 for any n>7, so BIC places a heavier penalty on models with too many predictors.\n",
    "\n",
    "\n",
    "##### Adjusted $R^2$\n",
    "\n",
    "Recall: $R^2 = 1-\\frac{RSS}{TSS}$\n",
    "\n",
    "RSS always decreases as more variables are added, so $R^2$ always increases. For an LM with *d* variables, adjusted $R^2$ is calculated as:\n",
    "\n",
    "$$Adjusted R^2 = 1-\\frac{\\frac{RSS}{n-d-1}}{\\frac{TSS}{n-1}} = 1-\\frac{RSS\\times(n-1)}{TSS\\times(n-d-1)}$$\n",
    "\n",
    "Though RSS always increases with an addition of variables, $\\frac{RSS}{n-d-1}$ may increase or decrease depending on whether adding the *$d^{th}$* variable brings about a proportional decrease in RSS\n",
    "\n",
    "In this case a large $Adjusted R^2$, just like a large $R^2$, indicates a low test error\n",
    "\n"
   ]
  },
  {
   "cell_type": "markdown",
   "metadata": {},
   "source": [
    "<hr>\n",
    "## Best Subset Selection\n",
    "\n",
    "Fit a separate Lin.Reg for each possible combination of the *p* predictors. Then look at all the models and identify the *best*\n",
    "\n",
    "That is, we fit all *p* models that contain one predictor, then fit all $( ^p_k ) = \\frac{p(p-1)}{2}$ models that contain all models with exactly two predictors etc.\n",
    "\n",
    "<u>**Algorithm**</u>\n",
    "1. Let $M_0$ denote the *null model*, which contains no predictors. This model simply predicts the sample mean for each observation\n",
    "<br><br>\n",
    "2. For $k$=1,2,3...*$p$*:\n",
    "    1. Fit all $\\binom{p}{k}$ models that contain exactly *k* predictors\n",
    "    2. Pick the best among these $\\binom{p}{k}$ models and call it $M_k$. Here, *best* is defined as the one that the least RSS, or the highest $R^2$\n",
    "<br><br>\n",
    "3. Select a single best model from $M_0...M_p$ using cross-validated prediction error, $C_p, AIC, BIC$ or adjusted $R^2$\n",
    "\n",
    "Step 2 identifies the best model for each subset size. In that step, $R^2$ increases monotonically as the number of features increases. So we will always end up with a model that includes all features. \n",
    "\n",
    "However, a high $R^2$ indicates a model with a low *training error*, but we want to minimize *test errors*. This is why Step 3, cross-validated prediction error is used.\n",
    "\n",
    "The same ideas apply to other models, like Log Reg. However, instead of using RSS there, we use *Deviance*, which plays the role of RSS for a broader class of models. The deviance is negative two times the maximized log-likelihood; the smaller the deviance, the better the fit.\n",
    "\n",
    "#### Computational Performance\n",
    "\n",
    "Obviously, this suffers from computational complexity. The number of possible models to evaluate grows rapidly with *p*. In general, there are $2^p$ models possible. Here's how that grows:"
   ]
  },
  {
   "cell_type": "code",
   "execution_count": 1,
   "metadata": {
    "collapsed": false,
    "scrolled": false
   },
   "outputs": [
    {
     "data": {
      "image/png": "[encoded data removed]",
      "text/plain": [
       "plot without title"
      ]
     },
     "metadata": {},
     "output_type": "display_data"
    }
   ],
   "source": [
    "plot(seq(1:25),2^seq(1:25),type = \"o\")"
   ]
  },
  {
   "cell_type": "markdown",
   "metadata": {},
   "source": [
    "We hit 1 Mil possibilities at 20 predictors. So this is extremely expensive.\n",
    "\n",
    "Let's try to use this for some real data. Use the `Hitters` data in `ISLR` pkg. We'll predict a baseball player's `Salary` based on various other statistics. \n",
    "\n",
    "Actually, the `Salary` variable is missing for some players. So we'll need to remove them as well"
   ]
  },
  {
   "cell_type": "code",
   "execution_count": 5,
   "metadata": {
    "collapsed": false,
    "scrolled": true
   },
   "outputs": [
    {
     "data": {
      "text/html": [
       "<ol class=list-inline>\n",
       "\t<li>'AtBat'</li>\n",
       "\t<li>'Hits'</li>\n",
       "\t<li>'HmRun'</li>\n",
       "\t<li>'Runs'</li>\n",
       "\t<li>'RBI'</li>\n",
       "\t<li>'Walks'</li>\n",
       "\t<li>'Years'</li>\n",
       "\t<li>'CAtBat'</li>\n",
       "\t<li>'CHits'</li>\n",
       "\t<li>'CHmRun'</li>\n",
       "\t<li>'CRuns'</li>\n",
       "\t<li>'CRBI'</li>\n",
       "\t<li>'CWalks'</li>\n",
       "\t<li>'League'</li>\n",
       "\t<li>'Division'</li>\n",
       "\t<li>'PutOuts'</li>\n",
       "\t<li>'Assists'</li>\n",
       "\t<li>'Errors'</li>\n",
       "\t<li>'Salary'</li>\n",
       "\t<li>'NewLeague'</li>\n",
       "</ol>\n"
      ],
      "text/latex": [
       "\\begin{enumerate*}\n",
       "\\item 'AtBat'\n",
       "\\item 'Hits'\n",
       "\\item 'HmRun'\n",
       "\\item 'Runs'\n",
       "\\item 'RBI'\n",
       "\\item 'Walks'\n",
       "\\item 'Years'\n",
       "\\item 'CAtBat'\n",
       "\\item 'CHits'\n",
       "\\item 'CHmRun'\n",
       "\\item 'CRuns'\n",
       "\\item 'CRBI'\n",
       "\\item 'CWalks'\n",
       "\\item 'League'\n",
       "\\item 'Division'\n",
       "\\item 'PutOuts'\n",
       "\\item 'Assists'\n",
       "\\item 'Errors'\n",
       "\\item 'Salary'\n",
       "\\item 'NewLeague'\n",
       "\\end{enumerate*}\n"
      ],
      "text/markdown": [
       "1. 'AtBat'\n",
       "2. 'Hits'\n",
       "3. 'HmRun'\n",
       "4. 'Runs'\n",
       "5. 'RBI'\n",
       "6. 'Walks'\n",
       "7. 'Years'\n",
       "8. 'CAtBat'\n",
       "9. 'CHits'\n",
       "10. 'CHmRun'\n",
       "11. 'CRuns'\n",
       "12. 'CRBI'\n",
       "13. 'CWalks'\n",
       "14. 'League'\n",
       "15. 'Division'\n",
       "16. 'PutOuts'\n",
       "17. 'Assists'\n",
       "18. 'Errors'\n",
       "19. 'Salary'\n",
       "20. 'NewLeague'\n",
       "\n",
       "\n"
      ],
      "text/plain": [
       " [1] \"AtBat\"     \"Hits\"      \"HmRun\"     \"Runs\"      \"RBI\"       \"Walks\"    \n",
       " [7] \"Years\"     \"CAtBat\"    \"CHits\"     \"CHmRun\"    \"CRuns\"     \"CRBI\"     \n",
       "[13] \"CWalks\"    \"League\"    \"Division\"  \"PutOuts\"   \"Assists\"   \"Errors\"   \n",
       "[19] \"Salary\"    \"NewLeague\""
      ]
     },
     "metadata": {},
     "output_type": "display_data"
    },
    {
     "data": {
      "text/html": [
       "<ol class=list-inline>\n",
       "\t<li>263</li>\n",
       "\t<li>20</li>\n",
       "</ol>\n"
      ],
      "text/latex": [
       "\\begin{enumerate*}\n",
       "\\item 263\n",
       "\\item 20\n",
       "\\end{enumerate*}\n"
      ],
      "text/markdown": [
       "1. 263\n",
       "2. 20\n",
       "\n",
       "\n"
      ],
      "text/plain": [
       "[1] 263  20"
      ]
     },
     "metadata": {},
     "output_type": "display_data"
    },
    {
     "data": {
      "text/html": [
       "0"
      ],
      "text/latex": [
       "0"
      ],
      "text/markdown": [
       "0"
      ],
      "text/plain": [
       "[1] 0"
      ]
     },
     "metadata": {},
     "output_type": "display_data"
    },
    {
     "data": {
      "text/html": [
       "0"
      ],
      "text/latex": [
       "0"
      ],
      "text/markdown": [
       "0"
      ],
      "text/plain": [
       "[1] 0"
      ]
     },
     "metadata": {},
     "output_type": "display_data"
    }
   ],
   "source": [
    "library(ISLR)\n",
    "names(Hitters)\n",
    "dim(Hitters)\n",
    "\n",
    "sum(is.na(Hitters$Salary))  # No. of null Salaries\n",
    "\n",
    "Hitters=na.omit(Hitters)\n",
    "sum(is.na(Hitters$Salary))  # No. of null Salaries"
   ]
  },
  {
   "cell_type": "markdown",
   "metadata": {},
   "source": [
    "The `regsubsets()` function in `leaps` library performs BSS.\n",
    "\n",
    "By deafult, only returns results up to the best 8-variable models. The `nvmax` argument can be used to make it report as many variables as desired"
   ]
  },
  {
   "cell_type": "code",
   "execution_count": 9,
   "metadata": {
    "collapsed": false
   },
   "outputs": [
    {
     "data": {
      "text/plain": [
       "Subset selection object\n",
       "Call: regsubsets.formula(Salary ~ ., data = Hitters, nvmax = 19)\n",
       "19 Variables  (and intercept)\n",
       "           Forced in Forced out\n",
       "AtBat          FALSE      FALSE\n",
       "Hits           FALSE      FALSE\n",
       "HmRun          FALSE      FALSE\n",
       "Runs           FALSE      FALSE\n",
       "RBI            FALSE      FALSE\n",
       "Walks          FALSE      FALSE\n",
       "Years          FALSE      FALSE\n",
       "CAtBat         FALSE      FALSE\n",
       "CHits          FALSE      FALSE\n",
       "CHmRun         FALSE      FALSE\n",
       "CRuns          FALSE      FALSE\n",
       "CRBI           FALSE      FALSE\n",
       "CWalks         FALSE      FALSE\n",
       "LeagueN        FALSE      FALSE\n",
       "DivisionW      FALSE      FALSE\n",
       "PutOuts        FALSE      FALSE\n",
       "Assists        FALSE      FALSE\n",
       "Errors         FALSE      FALSE\n",
       "NewLeagueN     FALSE      FALSE\n",
       "1 subsets of each size up to 19\n",
       "Selection Algorithm: exhaustive\n",
       "          AtBat Hits HmRun Runs RBI Walks Years CAtBat CHits CHmRun CRuns CRBI\n",
       "1  ( 1 )  \" \"   \" \"  \" \"   \" \"  \" \" \" \"   \" \"   \" \"    \" \"   \" \"    \" \"   \"*\" \n",
       "2  ( 1 )  \" \"   \"*\"  \" \"   \" \"  \" \" \" \"   \" \"   \" \"    \" \"   \" \"    \" \"   \"*\" \n",
       "3  ( 1 )  \" \"   \"*\"  \" \"   \" \"  \" \" \" \"   \" \"   \" \"    \" \"   \" \"    \" \"   \"*\" \n",
       "4  ( 1 )  \" \"   \"*\"  \" \"   \" \"  \" \" \" \"   \" \"   \" \"    \" \"   \" \"    \" \"   \"*\" \n",
       "5  ( 1 )  \"*\"   \"*\"  \" \"   \" \"  \" \" \" \"   \" \"   \" \"    \" \"   \" \"    \" \"   \"*\" \n",
       "6  ( 1 )  \"*\"   \"*\"  \" \"   \" \"  \" \" \"*\"   \" \"   \" \"    \" \"   \" \"    \" \"   \"*\" \n",
       "7  ( 1 )  \" \"   \"*\"  \" \"   \" \"  \" \" \"*\"   \" \"   \"*\"    \"*\"   \"*\"    \" \"   \" \" \n",
       "8  ( 1 )  \"*\"   \"*\"  \" \"   \" \"  \" \" \"*\"   \" \"   \" \"    \" \"   \"*\"    \"*\"   \" \" \n",
       "9  ( 1 )  \"*\"   \"*\"  \" \"   \" \"  \" \" \"*\"   \" \"   \"*\"    \" \"   \" \"    \"*\"   \"*\" \n",
       "10  ( 1 ) \"*\"   \"*\"  \" \"   \" \"  \" \" \"*\"   \" \"   \"*\"    \" \"   \" \"    \"*\"   \"*\" \n",
       "11  ( 1 ) \"*\"   \"*\"  \" \"   \" \"  \" \" \"*\"   \" \"   \"*\"    \" \"   \" \"    \"*\"   \"*\" \n",
       "12  ( 1 ) \"*\"   \"*\"  \" \"   \"*\"  \" \" \"*\"   \" \"   \"*\"    \" \"   \" \"    \"*\"   \"*\" \n",
       "13  ( 1 ) \"*\"   \"*\"  \" \"   \"*\"  \" \" \"*\"   \" \"   \"*\"    \" \"   \" \"    \"*\"   \"*\" \n",
       "14  ( 1 ) \"*\"   \"*\"  \"*\"   \"*\"  \" \" \"*\"   \" \"   \"*\"    \" \"   \" \"    \"*\"   \"*\" \n",
       "15  ( 1 ) \"*\"   \"*\"  \"*\"   \"*\"  \" \" \"*\"   \" \"   \"*\"    \"*\"   \" \"    \"*\"   \"*\" \n",
       "16  ( 1 ) \"*\"   \"*\"  \"*\"   \"*\"  \"*\" \"*\"   \" \"   \"*\"    \"*\"   \" \"    \"*\"   \"*\" \n",
       "17  ( 1 ) \"*\"   \"*\"  \"*\"   \"*\"  \"*\" \"*\"   \" \"   \"*\"    \"*\"   \" \"    \"*\"   \"*\" \n",
       "18  ( 1 ) \"*\"   \"*\"  \"*\"   \"*\"  \"*\" \"*\"   \"*\"   \"*\"    \"*\"   \" \"    \"*\"   \"*\" \n",
       "19  ( 1 ) \"*\"   \"*\"  \"*\"   \"*\"  \"*\" \"*\"   \"*\"   \"*\"    \"*\"   \"*\"    \"*\"   \"*\" \n",
       "          CWalks LeagueN DivisionW PutOuts Assists Errors NewLeagueN\n",
       "1  ( 1 )  \" \"    \" \"     \" \"       \" \"     \" \"     \" \"    \" \"       \n",
       "2  ( 1 )  \" \"    \" \"     \" \"       \" \"     \" \"     \" \"    \" \"       \n",
       "3  ( 1 )  \" \"    \" \"     \" \"       \"*\"     \" \"     \" \"    \" \"       \n",
       "4  ( 1 )  \" \"    \" \"     \"*\"       \"*\"     \" \"     \" \"    \" \"       \n",
       "5  ( 1 )  \" \"    \" \"     \"*\"       \"*\"     \" \"     \" \"    \" \"       \n",
       "6  ( 1 )  \" \"    \" \"     \"*\"       \"*\"     \" \"     \" \"    \" \"       \n",
       "7  ( 1 )  \" \"    \" \"     \"*\"       \"*\"     \" \"     \" \"    \" \"       \n",
       "8  ( 1 )  \"*\"    \" \"     \"*\"       \"*\"     \" \"     \" \"    \" \"       \n",
       "9  ( 1 )  \"*\"    \" \"     \"*\"       \"*\"     \" \"     \" \"    \" \"       \n",
       "10  ( 1 ) \"*\"    \" \"     \"*\"       \"*\"     \"*\"     \" \"    \" \"       \n",
       "11  ( 1 ) \"*\"    \"*\"     \"*\"       \"*\"     \"*\"     \" \"    \" \"       \n",
       "12  ( 1 ) \"*\"    \"*\"     \"*\"       \"*\"     \"*\"     \" \"    \" \"       \n",
       "13  ( 1 ) \"*\"    \"*\"     \"*\"       \"*\"     \"*\"     \"*\"    \" \"       \n",
       "14  ( 1 ) \"*\"    \"*\"     \"*\"       \"*\"     \"*\"     \"*\"    \" \"       \n",
       "15  ( 1 ) \"*\"    \"*\"     \"*\"       \"*\"     \"*\"     \"*\"    \" \"       \n",
       "16  ( 1 ) \"*\"    \"*\"     \"*\"       \"*\"     \"*\"     \"*\"    \" \"       \n",
       "17  ( 1 ) \"*\"    \"*\"     \"*\"       \"*\"     \"*\"     \"*\"    \"*\"       \n",
       "18  ( 1 ) \"*\"    \"*\"     \"*\"       \"*\"     \"*\"     \"*\"    \"*\"       \n",
       "19  ( 1 ) \"*\"    \"*\"     \"*\"       \"*\"     \"*\"     \"*\"    \"*\"       "
      ]
     },
     "metadata": {},
     "output_type": "display_data"
    }
   ],
   "source": [
    "library(leaps)\n",
    "regfit.full=regsubsets(Salary~.,data=Hitters,nvmax=19)\n",
    "summary(regfit.full)"
   ]
  },
  {
   "cell_type": "markdown",
   "metadata": {},
   "source": [
    "For instance, among the 2-variable models, the best one was the model with only `Hits` and `CRBI` as predictors.\n",
    "\n",
    "Let's also look at the $R^2$ (adjusted) etc. Also highlight the point with highest adjusted $R^2$"
   ]
  },
  {
   "cell_type": "code",
   "execution_count": 48,
   "metadata": {
    "collapsed": false
   },
   "outputs": [
    {
     "data": {
      "text/html": [
       "<ol class=list-inline>\n",
       "\t<li>'which'</li>\n",
       "\t<li>'rsq'</li>\n",
       "\t<li>'rss'</li>\n",
       "\t<li>'adjr2'</li>\n",
       "\t<li>'cp'</li>\n",
       "\t<li>'bic'</li>\n",
       "\t<li>'outmat'</li>\n",
       "\t<li>'obj'</li>\n",
       "</ol>\n"
      ],
      "text/latex": [
       "\\begin{enumerate*}\n",
       "\\item 'which'\n",
       "\\item 'rsq'\n",
       "\\item 'rss'\n",
       "\\item 'adjr2'\n",
       "\\item 'cp'\n",
       "\\item 'bic'\n",
       "\\item 'outmat'\n",
       "\\item 'obj'\n",
       "\\end{enumerate*}\n"
      ],
      "text/markdown": [
       "1. 'which'\n",
       "2. 'rsq'\n",
       "3. 'rss'\n",
       "4. 'adjr2'\n",
       "5. 'cp'\n",
       "6. 'bic'\n",
       "7. 'outmat'\n",
       "8. 'obj'\n",
       "\n",
       "\n"
      ],
      "text/plain": [
       "[1] \"which\"  \"rsq\"    \"rss\"    \"adjr2\"  \"cp\"     \"bic\"    \"outmat\" \"obj\"   "
      ]
     },
     "metadata": {},
     "output_type": "display_data"
    },
    {
     "data": {
      "image/png": "[encoded data removed]",
      "text/plain": [
       "plot without title"
      ]
     },
     "metadata": {},
     "output_type": "display_data"
    }
   ],
   "source": [
    "reg.summary =summary (regfit.full)\n",
    "names(reg.summary)\n",
    "\n",
    "wmax.adjr2=which.max(reg.summary$adjr2)\n",
    "wmax.rsq=which.max(reg.summary$rsq)\n",
    "wmin.cp=which.min(reg.summary$cp)\n",
    "wmin.bic=which.min(reg.summary$bic)\n",
    "\n",
    "par(mfrow=c(2,2))\n",
    "\n",
    "# Adj R-square\n",
    "plot(reg.summary$adjr2,xlab=\"No. of vars\",ylab=\"Adj. RSq\",type=\"l\")\n",
    "points(wmax.adjr2,reg.summary$adjr2[wmax.adjr2],col=\"red\",cex=3,pch=20)\n",
    "\n",
    "# R-square\n",
    "plot(reg.summary$rsq,xlab=\"No. of vars\",ylab=\"RSq\",type=\"l\")\n",
    "points(wmax.rsq,reg.summary$rsq[wmax.rsq],col=\"red\",cex=3,pch=20)\n",
    "\n",
    "#C_p\n",
    "plot(reg.summary$cp,xlab=\"No. of vars\",ylab=\"Cp\",type=\"l\")\n",
    "points(wmin.cp,reg.summary$cp[wmin.cp],col=\"red\",cex=3,pch=20)\n",
    "\n",
    "# BIC\n",
    "plot(reg.summary$bic,xlab=\"No. of vars\",ylab=\"BIC\",type=\"l\")\n",
    "points(wmin.bic,reg.summary$bic[wmin.bic],col=\"red\",cex=3,pch=20)"
   ]
  },
  {
   "cell_type": "markdown",
   "metadata": {},
   "source": [
    "Observe that the $R^2$ is at its highest value when all variables are in the model. This is most likely due to overfitting and the model would have very high variance. \n",
    "\n",
    "On the other hand, the Adjusted $R^2$ is at its highest at 11. This shows how the training $R^2$ overestimates the test $R^2$. \n",
    "\n",
    "$C_p$ is at the lowest at 10 variables, BIC is lowest at 6."
   ]
  },
  {
   "cell_type": "code",
   "execution_count": 56,
   "metadata": {
    "collapsed": false,
    "scrolled": false
   },
   "outputs": [
    {
     "data": {
      "image/png": "[encoded data removed]",
      "text/plain": [
       "plot without title"
      ]
     },
     "metadata": {},
     "output_type": "display_data"
    },
    {
     "data": {
      "image/png": "[encoded data removed]",
      "text/plain": [
       "plot without title"
      ]
     },
     "metadata": {},
     "output_type": "display_data"
    },
    {
     "data": {
      "image/png": "[encoded data removed]",
      "text/plain": [
       "plot without title"
      ]
     },
     "metadata": {},
     "output_type": "display_data"
    },
    {
     "data": {
      "image/png": "[encoded data removed]",
      "text/plain": [
       "plot without title"
      ]
     },
     "metadata": {},
     "output_type": "display_data"
    }
   ],
   "source": [
    "plot(regfit.full,scale=\"r2\")\n",
    "plot(regfit.full,scale=\"adjr2\")\n",
    "plot(regfit.full,scale=\"Cp\")\n",
    "plot(regfit.full,scale=\"bic\")"
   ]
  },
  {
   "cell_type": "markdown",
   "metadata": {},
   "source": [
    "The top row of each plot contains a black square for each variable selected according to the optimal model associated with that statistic.\n",
    "\n",
    "For example, many models share the BIC close to `-150`. But the model with the lowest BIC is the 6-var model that contains `AtBat`,`Hits`,`Walks`,`CRBI`,`DivisionW`,`PutOuts` (**why?:** recall the previous plots, that showed the lowest BIC @ 6 variables). \n",
    "\n",
    "We can get the coefficients of the 6-var model thusly:"
   ]
  },
  {
   "cell_type": "code",
   "execution_count": 58,
   "metadata": {
    "collapsed": false
   },
   "outputs": [
    {
     "data": {
      "text/html": [
       "<dl class=dl-horizontal>\n",
       "\t<dt>(Intercept)</dt>\n",
       "\t\t<dd>91.5117981171539</dd>\n",
       "\t<dt>AtBat</dt>\n",
       "\t\t<dd>-1.86858923135561</dd>\n",
       "\t<dt>Hits</dt>\n",
       "\t\t<dd>7.60439763117204</dd>\n",
       "\t<dt>Walks</dt>\n",
       "\t\t<dd>3.69764677424139</dd>\n",
       "\t<dt>CRBI</dt>\n",
       "\t\t<dd>0.643016935097332</dd>\n",
       "\t<dt>DivisionW</dt>\n",
       "\t\t<dd>-122.95153377292</dd>\n",
       "\t<dt>PutOuts</dt>\n",
       "\t\t<dd>0.264307605461511</dd>\n",
       "</dl>\n"
      ],
      "text/latex": [
       "\\begin{description*}\n",
       "\\item[(Intercept)] 91.5117981171539\n",
       "\\item[AtBat] -1.86858923135561\n",
       "\\item[Hits] 7.60439763117204\n",
       "\\item[Walks] 3.69764677424139\n",
       "\\item[CRBI] 0.643016935097332\n",
       "\\item[DivisionW] -122.95153377292\n",
       "\\item[PutOuts] 0.264307605461511\n",
       "\\end{description*}\n"
      ],
      "text/markdown": [
       "(Intercept)\n",
       ":   91.5117981171539AtBat\n",
       ":   -1.86858923135561Hits\n",
       ":   7.60439763117204Walks\n",
       ":   3.69764677424139CRBI\n",
       ":   0.643016935097332DivisionW\n",
       ":   -122.95153377292PutOuts\n",
       ":   0.264307605461511\n",
       "\n"
      ],
      "text/plain": [
       " (Intercept)        AtBat         Hits        Walks         CRBI    DivisionW \n",
       "  91.5117981   -1.8685892    7.6043976    3.6976468    0.6430169 -122.9515338 \n",
       "     PutOuts \n",
       "   0.2643076 "
      ]
     },
     "metadata": {},
     "output_type": "display_data"
    }
   ],
   "source": [
    "coef(regfit.full,6)"
   ]
  },
  {
   "cell_type": "markdown",
   "metadata": {},
   "source": [
    "<hr>\n",
    "## Stepwise Selection\n",
    "\n",
    "When *p* is large, Best Subset Selection is too expensive. But it also suffers from statistical problems. The larger the search space (set of possibile combinations tested), the higher chance of finding models that work well against training data. We could land up overfitting the data and high variance\n",
    "\n",
    "### Forward Stepwise Selection (FSS)\n",
    "\n",
    "Begins with a no-predictor model, then adds predictors one-by-one\n",
    "\n",
    "<u>**Algorithm**</u>\n",
    "\n",
    "1. Let $M_0$ denote the *null model*, which contains no predictors. This model simply predicts the sample mean for each observation\n",
    "<br><br>\n",
    "2. For $k$=0,1,2...,*$p-1$*:\n",
    "    1. Consider all *$p-k$* models to augment the predictors in $M_k$ with one additional predictor\n",
    "    2. Choose the best among these *$p-k$* models and call it $M_{k+1}$. Best is again defined as lowest RSS or highest $R^2$\n",
    "<br><br>\n",
    "3. Select a single best model from $M_0...M_p$ using cross-validated prediction error, $C_p, AIC, BIC$ or adjusted $R^2$\n",
    "\n",
    "\n",
    "Unlike BSS which needed to fit $2^p$ models, Forward Stepwise Selection requires fitting 1 NULL model, plus $p-k$ models per iteration. Totally, $1+\\sum_{k=0}^{p-1}(p-k)=1+ \\frac{p(p+1)}{2}$\n",
    "\n",
    "So for $p=20$, BSS fits $2^{20}$ (1 Mil+) models, FSS fits only 211 models\n",
    "\n",
    "However: The logic for FSS for essentially builds each level on the best predictor found on the previous level. So consider a dataset with 3 predictors, wherein *actually* the best *possible* one-variable model contains $X_1$ while the best *possible* two-variable model is $(X_2,X_3)$. \n",
    "\n",
    "Then FSS will not get the best possible two variable model. Because it will find $X_1$ to be the best 1-variable model, and therefore will search for the best model only among $(X_1,X_2)$ and $(X_1,X_3)$. The logic of FSS forces it to consider $X_1$ for each 2-variable model"
   ]
  },
  {
   "cell_type": "markdown",
   "metadata": {},
   "source": [
    "#### Backward Stepwise Selection (BaSS)\n",
    "\n",
    "Inverse of FSS. Starts with a model of *p* predictors. Then works *backwards*, by removing the least useful predictor.\n",
    "\n",
    "This only works if *$n \\geq p$*"
   ]
  },
  {
   "cell_type": "markdown",
   "metadata": {},
   "source": [
    "FSS and BaSS can be also done using the same `regsubsets` function. Just provide the `method=\"forward\"` or `method=\"backward\"` argument.\n",
    "\n",
    "Let's again try the same prediction using FSS/BaSS"
   ]
  },
  {
   "cell_type": "code",
   "execution_count": 57,
   "metadata": {
    "collapsed": false,
    "scrolled": false
   },
   "outputs": [
    {
     "data": {
      "text/plain": [
       "Subset selection object\n",
       "Call: regsubsets.formula(Salary ~ ., data = Hitters, nvmax = 19, method = \"forward\")\n",
       "19 Variables  (and intercept)\n",
       "           Forced in Forced out\n",
       "AtBat          FALSE      FALSE\n",
       "Hits           FALSE      FALSE\n",
       "HmRun          FALSE      FALSE\n",
       "Runs           FALSE      FALSE\n",
       "RBI            FALSE      FALSE\n",
       "Walks          FALSE      FALSE\n",
       "Years          FALSE      FALSE\n",
       "CAtBat         FALSE      FALSE\n",
       "CHits          FALSE      FALSE\n",
       "CHmRun         FALSE      FALSE\n",
       "CRuns          FALSE      FALSE\n",
       "CRBI           FALSE      FALSE\n",
       "CWalks         FALSE      FALSE\n",
       "LeagueN        FALSE      FALSE\n",
       "DivisionW      FALSE      FALSE\n",
       "PutOuts        FALSE      FALSE\n",
       "Assists        FALSE      FALSE\n",
       "Errors         FALSE      FALSE\n",
       "NewLeagueN     FALSE      FALSE\n",
       "1 subsets of each size up to 19\n",
       "Selection Algorithm: forward\n",
       "          AtBat Hits HmRun Runs RBI Walks Years CAtBat CHits CHmRun CRuns CRBI\n",
       "1  ( 1 )  \" \"   \" \"  \" \"   \" \"  \" \" \" \"   \" \"   \" \"    \" \"   \" \"    \" \"   \"*\" \n",
       "2  ( 1 )  \" \"   \"*\"  \" \"   \" \"  \" \" \" \"   \" \"   \" \"    \" \"   \" \"    \" \"   \"*\" \n",
       "3  ( 1 )  \" \"   \"*\"  \" \"   \" \"  \" \" \" \"   \" \"   \" \"    \" \"   \" \"    \" \"   \"*\" \n",
       "4  ( 1 )  \" \"   \"*\"  \" \"   \" \"  \" \" \" \"   \" \"   \" \"    \" \"   \" \"    \" \"   \"*\" \n",
       "5  ( 1 )  \"*\"   \"*\"  \" \"   \" \"  \" \" \" \"   \" \"   \" \"    \" \"   \" \"    \" \"   \"*\" \n",
       "6  ( 1 )  \"*\"   \"*\"  \" \"   \" \"  \" \" \"*\"   \" \"   \" \"    \" \"   \" \"    \" \"   \"*\" \n",
       "7  ( 1 )  \"*\"   \"*\"  \" \"   \" \"  \" \" \"*\"   \" \"   \" \"    \" \"   \" \"    \" \"   \"*\" \n",
       "8  ( 1 )  \"*\"   \"*\"  \" \"   \" \"  \" \" \"*\"   \" \"   \" \"    \" \"   \" \"    \"*\"   \"*\" \n",
       "9  ( 1 )  \"*\"   \"*\"  \" \"   \" \"  \" \" \"*\"   \" \"   \"*\"    \" \"   \" \"    \"*\"   \"*\" \n",
       "10  ( 1 ) \"*\"   \"*\"  \" \"   \" \"  \" \" \"*\"   \" \"   \"*\"    \" \"   \" \"    \"*\"   \"*\" \n",
       "11  ( 1 ) \"*\"   \"*\"  \" \"   \" \"  \" \" \"*\"   \" \"   \"*\"    \" \"   \" \"    \"*\"   \"*\" \n",
       "12  ( 1 ) \"*\"   \"*\"  \" \"   \"*\"  \" \" \"*\"   \" \"   \"*\"    \" \"   \" \"    \"*\"   \"*\" \n",
       "13  ( 1 ) \"*\"   \"*\"  \" \"   \"*\"  \" \" \"*\"   \" \"   \"*\"    \" \"   \" \"    \"*\"   \"*\" \n",
       "14  ( 1 ) \"*\"   \"*\"  \"*\"   \"*\"  \" \" \"*\"   \" \"   \"*\"    \" \"   \" \"    \"*\"   \"*\" \n",
       "15  ( 1 ) \"*\"   \"*\"  \"*\"   \"*\"  \" \" \"*\"   \" \"   \"*\"    \"*\"   \" \"    \"*\"   \"*\" \n",
       "16  ( 1 ) \"*\"   \"*\"  \"*\"   \"*\"  \"*\" \"*\"   \" \"   \"*\"    \"*\"   \" \"    \"*\"   \"*\" \n",
       "17  ( 1 ) \"*\"   \"*\"  \"*\"   \"*\"  \"*\" \"*\"   \" \"   \"*\"    \"*\"   \" \"    \"*\"   \"*\" \n",
       "18  ( 1 ) \"*\"   \"*\"  \"*\"   \"*\"  \"*\" \"*\"   \"*\"   \"*\"    \"*\"   \" \"    \"*\"   \"*\" \n",
       "19  ( 1 ) \"*\"   \"*\"  \"*\"   \"*\"  \"*\" \"*\"   \"*\"   \"*\"    \"*\"   \"*\"    \"*\"   \"*\" \n",
       "          CWalks LeagueN DivisionW PutOuts Assists Errors NewLeagueN\n",
       "1  ( 1 )  \" \"    \" \"     \" \"       \" \"     \" \"     \" \"    \" \"       \n",
       "2  ( 1 )  \" \"    \" \"     \" \"       \" \"     \" \"     \" \"    \" \"       \n",
       "3  ( 1 )  \" \"    \" \"     \" \"       \"*\"     \" \"     \" \"    \" \"       \n",
       "4  ( 1 )  \" \"    \" \"     \"*\"       \"*\"     \" \"     \" \"    \" \"       \n",
       "5  ( 1 )  \" \"    \" \"     \"*\"       \"*\"     \" \"     \" \"    \" \"       \n",
       "6  ( 1 )  \" \"    \" \"     \"*\"       \"*\"     \" \"     \" \"    \" \"       \n",
       "7  ( 1 )  \"*\"    \" \"     \"*\"       \"*\"     \" \"     \" \"    \" \"       \n",
       "8  ( 1 )  \"*\"    \" \"     \"*\"       \"*\"     \" \"     \" \"    \" \"       \n",
       "9  ( 1 )  \"*\"    \" \"     \"*\"       \"*\"     \" \"     \" \"    \" \"       \n",
       "10  ( 1 ) \"*\"    \" \"     \"*\"       \"*\"     \"*\"     \" \"    \" \"       \n",
       "11  ( 1 ) \"*\"    \"*\"     \"*\"       \"*\"     \"*\"     \" \"    \" \"       \n",
       "12  ( 1 ) \"*\"    \"*\"     \"*\"       \"*\"     \"*\"     \" \"    \" \"       \n",
       "13  ( 1 ) \"*\"    \"*\"     \"*\"       \"*\"     \"*\"     \"*\"    \" \"       \n",
       "14  ( 1 ) \"*\"    \"*\"     \"*\"       \"*\"     \"*\"     \"*\"    \" \"       \n",
       "15  ( 1 ) \"*\"    \"*\"     \"*\"       \"*\"     \"*\"     \"*\"    \" \"       \n",
       "16  ( 1 ) \"*\"    \"*\"     \"*\"       \"*\"     \"*\"     \"*\"    \" \"       \n",
       "17  ( 1 ) \"*\"    \"*\"     \"*\"       \"*\"     \"*\"     \"*\"    \"*\"       \n",
       "18  ( 1 ) \"*\"    \"*\"     \"*\"       \"*\"     \"*\"     \"*\"    \"*\"       \n",
       "19  ( 1 ) \"*\"    \"*\"     \"*\"       \"*\"     \"*\"     \"*\"    \"*\"       "
      ]
     },
     "metadata": {},
     "output_type": "display_data"
    },
    {
     "data": {
      "text/plain": [
       "Subset selection object\n",
       "Call: regsubsets.formula(Salary ~ ., data = Hitters, nvmax = 19, method = \"backward\")\n",
       "19 Variables  (and intercept)\n",
       "           Forced in Forced out\n",
       "AtBat          FALSE      FALSE\n",
       "Hits           FALSE      FALSE\n",
       "HmRun          FALSE      FALSE\n",
       "Runs           FALSE      FALSE\n",
       "RBI            FALSE      FALSE\n",
       "Walks          FALSE      FALSE\n",
       "Years          FALSE      FALSE\n",
       "CAtBat         FALSE      FALSE\n",
       "CHits          FALSE      FALSE\n",
       "CHmRun         FALSE      FALSE\n",
       "CRuns          FALSE      FALSE\n",
       "CRBI           FALSE      FALSE\n",
       "CWalks         FALSE      FALSE\n",
       "LeagueN        FALSE      FALSE\n",
       "DivisionW      FALSE      FALSE\n",
       "PutOuts        FALSE      FALSE\n",
       "Assists        FALSE      FALSE\n",
       "Errors         FALSE      FALSE\n",
       "NewLeagueN     FALSE      FALSE\n",
       "1 subsets of each size up to 19\n",
       "Selection Algorithm: backward\n",
       "          AtBat Hits HmRun Runs RBI Walks Years CAtBat CHits CHmRun CRuns CRBI\n",
       "1  ( 1 )  \" \"   \" \"  \" \"   \" \"  \" \" \" \"   \" \"   \" \"    \" \"   \" \"    \"*\"   \" \" \n",
       "2  ( 1 )  \" \"   \"*\"  \" \"   \" \"  \" \" \" \"   \" \"   \" \"    \" \"   \" \"    \"*\"   \" \" \n",
       "3  ( 1 )  \" \"   \"*\"  \" \"   \" \"  \" \" \" \"   \" \"   \" \"    \" \"   \" \"    \"*\"   \" \" \n",
       "4  ( 1 )  \"*\"   \"*\"  \" \"   \" \"  \" \" \" \"   \" \"   \" \"    \" \"   \" \"    \"*\"   \" \" \n",
       "5  ( 1 )  \"*\"   \"*\"  \" \"   \" \"  \" \" \"*\"   \" \"   \" \"    \" \"   \" \"    \"*\"   \" \" \n",
       "6  ( 1 )  \"*\"   \"*\"  \" \"   \" \"  \" \" \"*\"   \" \"   \" \"    \" \"   \" \"    \"*\"   \" \" \n",
       "7  ( 1 )  \"*\"   \"*\"  \" \"   \" \"  \" \" \"*\"   \" \"   \" \"    \" \"   \" \"    \"*\"   \" \" \n",
       "8  ( 1 )  \"*\"   \"*\"  \" \"   \" \"  \" \" \"*\"   \" \"   \" \"    \" \"   \" \"    \"*\"   \"*\" \n",
       "9  ( 1 )  \"*\"   \"*\"  \" \"   \" \"  \" \" \"*\"   \" \"   \"*\"    \" \"   \" \"    \"*\"   \"*\" \n",
       "10  ( 1 ) \"*\"   \"*\"  \" \"   \" \"  \" \" \"*\"   \" \"   \"*\"    \" \"   \" \"    \"*\"   \"*\" \n",
       "11  ( 1 ) \"*\"   \"*\"  \" \"   \" \"  \" \" \"*\"   \" \"   \"*\"    \" \"   \" \"    \"*\"   \"*\" \n",
       "12  ( 1 ) \"*\"   \"*\"  \" \"   \"*\"  \" \" \"*\"   \" \"   \"*\"    \" \"   \" \"    \"*\"   \"*\" \n",
       "13  ( 1 ) \"*\"   \"*\"  \" \"   \"*\"  \" \" \"*\"   \" \"   \"*\"    \" \"   \" \"    \"*\"   \"*\" \n",
       "14  ( 1 ) \"*\"   \"*\"  \"*\"   \"*\"  \" \" \"*\"   \" \"   \"*\"    \" \"   \" \"    \"*\"   \"*\" \n",
       "15  ( 1 ) \"*\"   \"*\"  \"*\"   \"*\"  \" \" \"*\"   \" \"   \"*\"    \"*\"   \" \"    \"*\"   \"*\" \n",
       "16  ( 1 ) \"*\"   \"*\"  \"*\"   \"*\"  \"*\" \"*\"   \" \"   \"*\"    \"*\"   \" \"    \"*\"   \"*\" \n",
       "17  ( 1 ) \"*\"   \"*\"  \"*\"   \"*\"  \"*\" \"*\"   \" \"   \"*\"    \"*\"   \" \"    \"*\"   \"*\" \n",
       "18  ( 1 ) \"*\"   \"*\"  \"*\"   \"*\"  \"*\" \"*\"   \"*\"   \"*\"    \"*\"   \" \"    \"*\"   \"*\" \n",
       "19  ( 1 ) \"*\"   \"*\"  \"*\"   \"*\"  \"*\" \"*\"   \"*\"   \"*\"    \"*\"   \"*\"    \"*\"   \"*\" \n",
       "          CWalks LeagueN DivisionW PutOuts Assists Errors NewLeagueN\n",
       "1  ( 1 )  \" \"    \" \"     \" \"       \" \"     \" \"     \" \"    \" \"       \n",
       "2  ( 1 )  \" \"    \" \"     \" \"       \" \"     \" \"     \" \"    \" \"       \n",
       "3  ( 1 )  \" \"    \" \"     \" \"       \"*\"     \" \"     \" \"    \" \"       \n",
       "4  ( 1 )  \" \"    \" \"     \" \"       \"*\"     \" \"     \" \"    \" \"       \n",
       "5  ( 1 )  \" \"    \" \"     \" \"       \"*\"     \" \"     \" \"    \" \"       \n",
       "6  ( 1 )  \" \"    \" \"     \"*\"       \"*\"     \" \"     \" \"    \" \"       \n",
       "7  ( 1 )  \"*\"    \" \"     \"*\"       \"*\"     \" \"     \" \"    \" \"       \n",
       "8  ( 1 )  \"*\"    \" \"     \"*\"       \"*\"     \" \"     \" \"    \" \"       \n",
       "9  ( 1 )  \"*\"    \" \"     \"*\"       \"*\"     \" \"     \" \"    \" \"       \n",
       "10  ( 1 ) \"*\"    \" \"     \"*\"       \"*\"     \"*\"     \" \"    \" \"       \n",
       "11  ( 1 ) \"*\"    \"*\"     \"*\"       \"*\"     \"*\"     \" \"    \" \"       \n",
       "12  ( 1 ) \"*\"    \"*\"     \"*\"       \"*\"     \"*\"     \" \"    \" \"       \n",
       "13  ( 1 ) \"*\"    \"*\"     \"*\"       \"*\"     \"*\"     \"*\"    \" \"       \n",
       "14  ( 1 ) \"*\"    \"*\"     \"*\"       \"*\"     \"*\"     \"*\"    \" \"       \n",
       "15  ( 1 ) \"*\"    \"*\"     \"*\"       \"*\"     \"*\"     \"*\"    \" \"       \n",
       "16  ( 1 ) \"*\"    \"*\"     \"*\"       \"*\"     \"*\"     \"*\"    \" \"       \n",
       "17  ( 1 ) \"*\"    \"*\"     \"*\"       \"*\"     \"*\"     \"*\"    \"*\"       \n",
       "18  ( 1 ) \"*\"    \"*\"     \"*\"       \"*\"     \"*\"     \"*\"    \"*\"       \n",
       "19  ( 1 ) \"*\"    \"*\"     \"*\"       \"*\"     \"*\"     \"*\"    \"*\"       "
      ]
     },
     "metadata": {},
     "output_type": "display_data"
    }
   ],
   "source": [
    "regfit.fwd=regsubsets(Salary~.,data=Hitters,nvmax=19,method=\"forward\")\n",
    "summary(regfit.fwd)\n",
    "\n",
    "regfit.bwd=regsubsets(Salary~.,data=Hitters,nvmax=19,method=\"backward\")\n",
    "summary(regfit.bwd)"
   ]
  },
  {
   "cell_type": "markdown",
   "metadata": {},
   "source": [
    "Up to 6-variables, FSS is selecting the same variables as BSS. After that though, the selected models differ."
   ]
  },
  {
   "cell_type": "code",
   "execution_count": 59,
   "metadata": {
    "collapsed": false
   },
   "outputs": [
    {
     "data": {
      "text/html": [
       "<dl class=dl-horizontal>\n",
       "\t<dt>(Intercept)</dt>\n",
       "\t\t<dd>79.4509472435319</dd>\n",
       "\t<dt>Hits</dt>\n",
       "\t\t<dd>1.28335125463328</dd>\n",
       "\t<dt>Walks</dt>\n",
       "\t\t<dd>3.22742638972714</dd>\n",
       "\t<dt>CAtBat</dt>\n",
       "\t\t<dd>-0.375235019565453</dd>\n",
       "\t<dt>CHits</dt>\n",
       "\t\t<dd>1.49570730989869</dd>\n",
       "\t<dt>CHmRun</dt>\n",
       "\t\t<dd>1.44205381889666</dd>\n",
       "\t<dt>DivisionW</dt>\n",
       "\t\t<dd>-129.986643165116</dd>\n",
       "\t<dt>PutOuts</dt>\n",
       "\t\t<dd>0.236681317525621</dd>\n",
       "</dl>\n"
      ],
      "text/latex": [
       "\\begin{description*}\n",
       "\\item[(Intercept)] 79.4509472435319\n",
       "\\item[Hits] 1.28335125463328\n",
       "\\item[Walks] 3.22742638972714\n",
       "\\item[CAtBat] -0.375235019565453\n",
       "\\item[CHits] 1.49570730989869\n",
       "\\item[CHmRun] 1.44205381889666\n",
       "\\item[DivisionW] -129.986643165116\n",
       "\\item[PutOuts] 0.236681317525621\n",
       "\\end{description*}\n"
      ],
      "text/markdown": [
       "(Intercept)\n",
       ":   79.4509472435319Hits\n",
       ":   1.28335125463328Walks\n",
       ":   3.22742638972714CAtBat\n",
       ":   -0.375235019565453CHits\n",
       ":   1.49570730989869CHmRun\n",
       ":   1.44205381889666DivisionW\n",
       ":   -129.986643165116PutOuts\n",
       ":   0.236681317525621\n",
       "\n"
      ],
      "text/plain": [
       " (Intercept)         Hits        Walks       CAtBat        CHits       CHmRun \n",
       "  79.4509472    1.2833513    3.2274264   -0.3752350    1.4957073    1.4420538 \n",
       "   DivisionW      PutOuts \n",
       "-129.9866432    0.2366813 "
      ]
     },
     "metadata": {},
     "output_type": "display_data"
    },
    {
     "data": {
      "text/html": [
       "<dl class=dl-horizontal>\n",
       "\t<dt>(Intercept)</dt>\n",
       "\t\t<dd>109.787306240078</dd>\n",
       "\t<dt>AtBat</dt>\n",
       "\t\t<dd>-1.95888512315655</dd>\n",
       "\t<dt>Hits</dt>\n",
       "\t\t<dd>7.44987721841218</dd>\n",
       "\t<dt>Walks</dt>\n",
       "\t\t<dd>4.91314009272066</dd>\n",
       "\t<dt>CRBI</dt>\n",
       "\t\t<dd>0.853762209061578</dd>\n",
       "\t<dt>CWalks</dt>\n",
       "\t\t<dd>-0.305307000381738</dd>\n",
       "\t<dt>DivisionW</dt>\n",
       "\t\t<dd>-127.122392777488</dd>\n",
       "\t<dt>PutOuts</dt>\n",
       "\t\t<dd>0.253340431147386</dd>\n",
       "</dl>\n"
      ],
      "text/latex": [
       "\\begin{description*}\n",
       "\\item[(Intercept)] 109.787306240078\n",
       "\\item[AtBat] -1.95888512315655\n",
       "\\item[Hits] 7.44987721841218\n",
       "\\item[Walks] 4.91314009272066\n",
       "\\item[CRBI] 0.853762209061578\n",
       "\\item[CWalks] -0.305307000381738\n",
       "\\item[DivisionW] -127.122392777488\n",
       "\\item[PutOuts] 0.253340431147386\n",
       "\\end{description*}\n"
      ],
      "text/markdown": [
       "(Intercept)\n",
       ":   109.787306240078AtBat\n",
       ":   -1.95888512315655Hits\n",
       ":   7.44987721841218Walks\n",
       ":   4.91314009272066CRBI\n",
       ":   0.853762209061578CWalks\n",
       ":   -0.305307000381738DivisionW\n",
       ":   -127.122392777488PutOuts\n",
       ":   0.253340431147386\n",
       "\n"
      ],
      "text/plain": [
       " (Intercept)        AtBat         Hits        Walks         CRBI       CWalks \n",
       " 109.7873062   -1.9588851    7.4498772    4.9131401    0.8537622   -0.3053070 \n",
       "   DivisionW      PutOuts \n",
       "-127.1223928    0.2533404 "
      ]
     },
     "metadata": {},
     "output_type": "display_data"
    },
    {
     "data": {
      "text/html": [
       "<dl class=dl-horizontal>\n",
       "\t<dt>(Intercept)</dt>\n",
       "\t\t<dd>105.648748778828</dd>\n",
       "\t<dt>AtBat</dt>\n",
       "\t\t<dd>-1.97628381026618</dd>\n",
       "\t<dt>Hits</dt>\n",
       "\t\t<dd>6.75749144281392</dd>\n",
       "\t<dt>Walks</dt>\n",
       "\t\t<dd>6.05586912154598</dd>\n",
       "\t<dt>CRuns</dt>\n",
       "\t\t<dd>1.12930946903271</dd>\n",
       "\t<dt>CWalks</dt>\n",
       "\t\t<dd>-0.71633458662198</dd>\n",
       "\t<dt>DivisionW</dt>\n",
       "\t\t<dd>-116.16921690431</dd>\n",
       "\t<dt>PutOuts</dt>\n",
       "\t\t<dd>0.302884743257576</dd>\n",
       "</dl>\n"
      ],
      "text/latex": [
       "\\begin{description*}\n",
       "\\item[(Intercept)] 105.648748778828\n",
       "\\item[AtBat] -1.97628381026618\n",
       "\\item[Hits] 6.75749144281392\n",
       "\\item[Walks] 6.05586912154598\n",
       "\\item[CRuns] 1.12930946903271\n",
       "\\item[CWalks] -0.71633458662198\n",
       "\\item[DivisionW] -116.16921690431\n",
       "\\item[PutOuts] 0.302884743257576\n",
       "\\end{description*}\n"
      ],
      "text/markdown": [
       "(Intercept)\n",
       ":   105.648748778828AtBat\n",
       ":   -1.97628381026618Hits\n",
       ":   6.75749144281392Walks\n",
       ":   6.05586912154598CRuns\n",
       ":   1.12930946903271CWalks\n",
       ":   -0.71633458662198DivisionW\n",
       ":   -116.16921690431PutOuts\n",
       ":   0.302884743257576\n",
       "\n"
      ],
      "text/plain": [
       " (Intercept)        AtBat         Hits        Walks        CRuns       CWalks \n",
       " 105.6487488   -1.9762838    6.7574914    6.0558691    1.1293095   -0.7163346 \n",
       "   DivisionW      PutOuts \n",
       "-116.1692169    0.3028847 "
      ]
     },
     "metadata": {},
     "output_type": "display_data"
    }
   ],
   "source": [
    "coef(regfit.full,7)\n",
    "coef(regfit.fwd,7)\n",
    "coef(regfit.bwd,7)"
   ]
  },
  {
   "cell_type": "markdown",
   "metadata": {},
   "source": [
    "## Choosing among models using Validation Set and Cross Validation\n",
    "\n",
    "We use only the training sets to fit all aspects of model fitting, including the variable selection. So determining which model of a given size is the best, is done only using the training set.\n",
    "\n",
    "### Validation Set Approach\n",
    "\n",
    "To use the validation set approach, we begin by splitting the obs into a test and training set randomly."
   ]
  },
  {
   "cell_type": "code",
   "execution_count": 60,
   "metadata": {
    "collapsed": true
   },
   "outputs": [],
   "source": [
    "set.seed(1)\n",
    "train=sample(c(TRUE,FALSE),nrow(Hitters),rep=TRUE)\n",
    "test=!train"
   ]
  },
  {
   "cell_type": "markdown",
   "metadata": {},
   "source": [
    "Now apply BSS to perform best subset selection"
   ]
  },
  {
   "cell_type": "code",
   "execution_count": null,
   "metadata": {
    "collapsed": true
   },
   "outputs": [],
   "source": [
    "regfit.best=regsubsets(Salary~.,data=Hitters[train,],nvmax=19)"
   ]
  },
  {
   "cell_type": "markdown",
   "metadata": {},
   "source": [
    "Use `model.matrix()` to generate an \"X\" matrix"
   ]
  },
  {
   "cell_type": "code",
   "execution_count": 79,
   "metadata": {
    "collapsed": false
   },
   "outputs": [
    {
     "data": {
      "text/html": [
       "<table>\n",
       "<thead><tr><th></th><th scope=col>(Intercept)</th><th scope=col>AtBat</th><th scope=col>Hits</th><th scope=col>HmRun</th><th scope=col>Runs</th><th scope=col>RBI</th><th scope=col>Walks</th><th scope=col>Years</th><th scope=col>CAtBat</th><th scope=col>CHits</th><th scope=col>CHmRun</th><th scope=col>CRuns</th><th scope=col>CRBI</th><th scope=col>CWalks</th><th scope=col>LeagueN</th><th scope=col>DivisionW</th><th scope=col>PutOuts</th><th scope=col>Assists</th><th scope=col>Errors</th><th scope=col>NewLeagueN</th></tr></thead>\n",
       "<tbody>\n",
       "\t<tr><th scope=row>-Andre Dawson</th><td>1   </td><td>496 </td><td>141 </td><td>20  </td><td>65  </td><td>78  </td><td>37  </td><td>11  </td><td>5628</td><td>1575</td><td>225 </td><td>828 </td><td>838 </td><td>354 </td><td>1   </td><td>0   </td><td>200 </td><td> 11 </td><td> 3  </td><td>1   </td></tr>\n",
       "\t<tr><th scope=row>-Andres Galarraga</th><td>1   </td><td>321 </td><td> 87 </td><td>10  </td><td>39  </td><td>42  </td><td>30  </td><td> 2  </td><td> 396</td><td> 101</td><td> 12 </td><td> 48 </td><td> 46 </td><td> 33 </td><td>1   </td><td>0   </td><td>805 </td><td> 40 </td><td> 4  </td><td>1   </td></tr>\n",
       "\t<tr><th scope=row>-Al Newman</th><td>1   </td><td>185 </td><td> 37 </td><td> 1  </td><td>23  </td><td> 8  </td><td>21  </td><td> 2  </td><td> 214</td><td>  42</td><td>  1 </td><td> 30 </td><td>  9 </td><td> 24 </td><td>1   </td><td>0   </td><td> 76 </td><td>127 </td><td> 7  </td><td>0   </td></tr>\n",
       "\t<tr><th scope=row>-Argenis Salazar</th><td>1   </td><td>298 </td><td> 73 </td><td> 0  </td><td>24  </td><td>24  </td><td> 7  </td><td> 3  </td><td> 509</td><td> 108</td><td>  0 </td><td> 41 </td><td> 37 </td><td> 12 </td><td>0   </td><td>1   </td><td>121 </td><td>283 </td><td> 9  </td><td>0   </td></tr>\n",
       "\t<tr><th scope=row>-Andres Thomas</th><td>1   </td><td>323 </td><td> 81 </td><td> 6  </td><td>26  </td><td>32  </td><td> 8  </td><td> 2  </td><td> 341</td><td>  86</td><td>  6 </td><td> 32 </td><td> 34 </td><td>  8 </td><td>1   </td><td>1   </td><td>143 </td><td>290 </td><td>19  </td><td>1   </td></tr>\n",
       "\t<tr><th scope=row>-Andre Thornton</th><td>1   </td><td>401 </td><td> 92 </td><td>17  </td><td>49  </td><td>66  </td><td>65  </td><td>13  </td><td>5206</td><td>1332</td><td>253 </td><td>784 </td><td>890 </td><td>866 </td><td>0   </td><td>0   </td><td>  0 </td><td>  0 </td><td> 0  </td><td>0   </td></tr>\n",
       "</tbody>\n",
       "</table>\n"
      ],
      "text/latex": [
       "\\begin{tabular}{r|llllllllllllllllllll}\n",
       "  & (Intercept) & AtBat & Hits & HmRun & Runs & RBI & Walks & Years & CAtBat & CHits & CHmRun & CRuns & CRBI & CWalks & LeagueN & DivisionW & PutOuts & Assists & Errors & NewLeagueN\\\\\n",
       "\\hline\n",
       "\t-Andre Dawson & 1    & 496  & 141  & 20   & 65   & 78   & 37   & 11   & 5628 & 1575 & 225  & 828  & 838  & 354  & 1    & 0    & 200  &  11  &  3   & 1   \\\\\n",
       "\t-Andres Galarraga & 1    & 321  &  87  & 10   & 39   & 42   & 30   &  2   &  396 &  101 &  12  &  48  &  46  &  33  & 1    & 0    & 805  &  40  &  4   & 1   \\\\\n",
       "\t-Al Newman & 1    & 185  &  37  &  1   & 23   &  8   & 21   &  2   &  214 &   42 &   1  &  30  &   9  &  24  & 1    & 0    &  76  & 127  &  7   & 0   \\\\\n",
       "\t-Argenis Salazar & 1    & 298  &  73  &  0   & 24   & 24   &  7   &  3   &  509 &  108 &   0  &  41  &  37  &  12  & 0    & 1    & 121  & 283  &  9   & 0   \\\\\n",
       "\t-Andres Thomas & 1    & 323  &  81  &  6   & 26   & 32   &  8   &  2   &  341 &   86 &   6  &  32  &  34  &   8  & 1    & 1    & 143  & 290  & 19   & 1   \\\\\n",
       "\t-Andre Thornton & 1    & 401  &  92  & 17   & 49   & 66   & 65   & 13   & 5206 & 1332 & 253  & 784  & 890  & 866  & 0    & 0    &   0  &   0  &  0   & 0   \\\\\n",
       "\\end{tabular}\n"
      ],
      "text/markdown": [
       "\n",
       "| <!--/--> | (Intercept) | AtBat | Hits | HmRun | Runs | RBI | Walks | Years | CAtBat | CHits | CHmRun | CRuns | CRBI | CWalks | LeagueN | DivisionW | PutOuts | Assists | Errors | NewLeagueN | \n",
       "|---|---|---|---|---|---|\n",
       "| -Andre Dawson | 1    | 496  | 141  | 20   | 65   | 78   | 37   | 11   | 5628 | 1575 | 225  | 828  | 838  | 354  | 1    | 0    | 200  |  11  |  3   | 1    | \n",
       "| -Andres Galarraga | 1    | 321  |  87  | 10   | 39   | 42   | 30   |  2   |  396 |  101 |  12  |  48  |  46  |  33  | 1    | 0    | 805  |  40  |  4   | 1    | \n",
       "| -Al Newman | 1    | 185  |  37  |  1   | 23   |  8   | 21   |  2   |  214 |   42 |   1  |  30  |   9  |  24  | 1    | 0    |  76  | 127  |  7   | 0    | \n",
       "| -Argenis Salazar | 1    | 298  |  73  |  0   | 24   | 24   |  7   |  3   |  509 |  108 |   0  |  41  |  37  |  12  | 0    | 1    | 121  | 283  |  9   | 0    | \n",
       "| -Andres Thomas | 1    | 323  |  81  |  6   | 26   | 32   |  8   |  2   |  341 |   86 |   6  |  32  |  34  |   8  | 1    | 1    | 143  | 290  | 19   | 1    | \n",
       "| -Andre Thornton | 1    | 401  |  92  | 17   | 49   | 66   | 65   | 13   | 5206 | 1332 | 253  | 784  | 890  | 866  | 0    | 0    |   0  |   0  |  0   | 0    | \n",
       "\n",
       "\n"
      ],
      "text/plain": [
       "                  (Intercept) AtBat Hits HmRun Runs RBI Walks Years CAtBat\n",
       "-Andre Dawson     1           496   141  20    65   78  37    11    5628  \n",
       "-Andres Galarraga 1           321    87  10    39   42  30     2     396  \n",
       "-Al Newman        1           185    37   1    23    8  21     2     214  \n",
       "-Argenis Salazar  1           298    73   0    24   24   7     3     509  \n",
       "-Andres Thomas    1           323    81   6    26   32   8     2     341  \n",
       "-Andre Thornton   1           401    92  17    49   66  65    13    5206  \n",
       "                  CHits CHmRun CRuns CRBI CWalks LeagueN DivisionW PutOuts\n",
       "-Andre Dawson     1575  225    828   838  354    1       0         200    \n",
       "-Andres Galarraga  101   12     48    46   33    1       0         805    \n",
       "-Al Newman          42    1     30     9   24    1       0          76    \n",
       "-Argenis Salazar   108    0     41    37   12    0       1         121    \n",
       "-Andres Thomas      86    6     32    34    8    1       1         143    \n",
       "-Andre Thornton   1332  253    784   890  866    0       0           0    \n",
       "                  Assists Errors NewLeagueN\n",
       "-Andre Dawson      11      3     1         \n",
       "-Andres Galarraga  40      4     1         \n",
       "-Al Newman        127      7     0         \n",
       "-Argenis Salazar  283      9     0         \n",
       "-Andres Thomas    290     19     1         \n",
       "-Andre Thornton     0      0     0         "
      ]
     },
     "metadata": {},
     "output_type": "display_data"
    }
   ],
   "source": [
    "test.mat=model.matrix(Salary~.,data=Hitters[test,])\n",
    "head(test.mat)"
   ]
  },
  {
   "cell_type": "markdown",
   "metadata": {},
   "source": [
    "Now for each size `i` ,extract the coefs from `regfit.best`, apply the coefs on the test matrix and compute MSE\n",
    "\n",
    "Matrix multiplation works here. Notice the `names(coefi)` being selected from `test.mat` before applying matrix multiplication. "
   ]
  },
  {
   "cell_type": "code",
   "execution_count": 75,
   "metadata": {
    "collapsed": false
   },
   "outputs": [
    {
     "data": {
      "text/html": [
       "<ol class=list-inline>\n",
       "\t<li>220968.010570781</li>\n",
       "\t<li>169157.080938694</li>\n",
       "\t<li>178518.155945132</li>\n",
       "\t<li>163426.079195481</li>\n",
       "\t<li>168418.096758255</li>\n",
       "\t<li>171270.594721366</li>\n",
       "\t<li>162377.082699745</li>\n",
       "\t<li>157909.280553932</li>\n",
       "\t<li>154055.716825013</li>\n",
       "\t<li>148162.052539399</li>\n",
       "\t<li>151156.401317955</li>\n",
       "\t<li>151742.451908185</li>\n",
       "\t<li>152214.450874715</li>\n",
       "\t<li>157358.654080678</li>\n",
       "\t<li>158541.407297311</li>\n",
       "\t<li>158743.3209425</li>\n",
       "\t<li>159972.673927589</li>\n",
       "\t<li>159859.793366072</li>\n",
       "\t<li>160105.640513861</li>\n",
       "</ol>\n"
      ],
      "text/latex": [
       "\\begin{enumerate*}\n",
       "\\item 220968.010570781\n",
       "\\item 169157.080938694\n",
       "\\item 178518.155945132\n",
       "\\item 163426.079195481\n",
       "\\item 168418.096758255\n",
       "\\item 171270.594721366\n",
       "\\item 162377.082699745\n",
       "\\item 157909.280553932\n",
       "\\item 154055.716825013\n",
       "\\item 148162.052539399\n",
       "\\item 151156.401317955\n",
       "\\item 151742.451908185\n",
       "\\item 152214.450874715\n",
       "\\item 157358.654080678\n",
       "\\item 158541.407297311\n",
       "\\item 158743.3209425\n",
       "\\item 159972.673927589\n",
       "\\item 159859.793366072\n",
       "\\item 160105.640513861\n",
       "\\end{enumerate*}\n"
      ],
      "text/markdown": [
       "1. 220968.010570781\n",
       "2. 169157.080938694\n",
       "3. 178518.155945132\n",
       "4. 163426.079195481\n",
       "5. 168418.096758255\n",
       "6. 171270.594721366\n",
       "7. 162377.082699745\n",
       "8. 157909.280553932\n",
       "9. 154055.716825013\n",
       "10. 148162.052539399\n",
       "11. 151156.401317955\n",
       "12. 151742.451908185\n",
       "13. 152214.450874715\n",
       "14. 157358.654080678\n",
       "15. 158541.407297311\n",
       "16. 158743.3209425\n",
       "17. 159972.673927589\n",
       "18. 159859.793366072\n",
       "19. 160105.640513861\n",
       "\n",
       "\n"
      ],
      "text/plain": [
       " [1] 220968.0 169157.1 178518.2 163426.1 168418.1 171270.6 162377.1 157909.3\n",
       " [9] 154055.7 148162.1 151156.4 151742.5 152214.5 157358.7 158541.4 158743.3\n",
       "[17] 159972.7 159859.8 160105.6"
      ]
     },
     "metadata": {},
     "output_type": "display_data"
    },
    {
     "data": {
      "text/html": [
       "10"
      ],
      "text/latex": [
       "10"
      ],
      "text/markdown": [
       "10"
      ],
      "text/plain": [
       "[1] 10"
      ]
     },
     "metadata": {},
     "output_type": "display_data"
    }
   ],
   "source": [
    "val.errors=rep(NA,19)\n",
    "for (i in 1:19){\n",
    "    coefi=coef(regfit.best,id=i)\n",
    "    pred=test.mat[,names(coefi)] %*% coefi\n",
    "    val.errors[i]=mean((Hitters$Salary[test]-pred)^2)    \n",
    "}\n",
    "\n",
    "val.errors\n",
    "which.min(val.errors)"
   ]
  },
  {
   "cell_type": "code",
   "execution_count": 76,
   "metadata": {
    "collapsed": false
   },
   "outputs": [
    {
     "data": {
      "text/html": [
       "<dl class=dl-horizontal>\n",
       "\t<dt>(Intercept)</dt>\n",
       "\t\t<dd>-80.2751498545584</dd>\n",
       "\t<dt>AtBat</dt>\n",
       "\t\t<dd>-1.46838155352597</dd>\n",
       "\t<dt>Hits</dt>\n",
       "\t\t<dd>7.16253138932867</dd>\n",
       "\t<dt>Walks</dt>\n",
       "\t\t<dd>3.64303449365111</dd>\n",
       "\t<dt>CAtBat</dt>\n",
       "\t\t<dd>-0.185569803428967</dd>\n",
       "\t<dt>CHits</dt>\n",
       "\t\t<dd>1.10532384927797</dd>\n",
       "\t<dt>CHmRun</dt>\n",
       "\t\t<dd>1.38448634401015</dd>\n",
       "\t<dt>CWalks</dt>\n",
       "\t\t<dd>-0.74831695417675</dd>\n",
       "\t<dt>LeagueN</dt>\n",
       "\t\t<dd>84.5576102976496</dd>\n",
       "\t<dt>DivisionW</dt>\n",
       "\t\t<dd>-53.0289658320235</dd>\n",
       "\t<dt>PutOuts</dt>\n",
       "\t\t<dd>0.238166218963617</dd>\n",
       "</dl>\n"
      ],
      "text/latex": [
       "\\begin{description*}\n",
       "\\item[(Intercept)] -80.2751498545584\n",
       "\\item[AtBat] -1.46838155352597\n",
       "\\item[Hits] 7.16253138932867\n",
       "\\item[Walks] 3.64303449365111\n",
       "\\item[CAtBat] -0.185569803428967\n",
       "\\item[CHits] 1.10532384927797\n",
       "\\item[CHmRun] 1.38448634401015\n",
       "\\item[CWalks] -0.74831695417675\n",
       "\\item[LeagueN] 84.5576102976496\n",
       "\\item[DivisionW] -53.0289658320235\n",
       "\\item[PutOuts] 0.238166218963617\n",
       "\\end{description*}\n"
      ],
      "text/markdown": [
       "(Intercept)\n",
       ":   -80.2751498545584AtBat\n",
       ":   -1.46838155352597Hits\n",
       ":   7.16253138932867Walks\n",
       ":   3.64303449365111CAtBat\n",
       ":   -0.185569803428967CHits\n",
       ":   1.10532384927797CHmRun\n",
       ":   1.38448634401015CWalks\n",
       ":   -0.74831695417675LeagueN\n",
       ":   84.5576102976496DivisionW\n",
       ":   -53.0289658320235PutOuts\n",
       ":   0.238166218963617\n",
       "\n"
      ],
      "text/plain": [
       "(Intercept)       AtBat        Hits       Walks      CAtBat       CHits \n",
       "-80.2751499  -1.4683816   7.1625314   3.6430345  -0.1855698   1.1053238 \n",
       "     CHmRun      CWalks     LeagueN   DivisionW     PutOuts \n",
       "  1.3844863  -0.7483170  84.5576103 -53.0289658   0.2381662 "
      ]
     },
     "metadata": {},
     "output_type": "display_data"
    }
   ],
   "source": [
    "coef(regfit.best,10)"
   ]
  },
  {
   "cell_type": "markdown",
   "metadata": {},
   "source": [
    "Make a reusable function to capture the above steps"
   ]
  },
  {
   "cell_type": "code",
   "execution_count": 82,
   "metadata": {
    "collapsed": true
   },
   "outputs": [],
   "source": [
    "predict.regsubsets=function(object,newdata,id,...){\n",
    "    form=as.formula(object$call[[2]])\n",
    "    mat=model.matrix(form,newdata)\n",
    "    coefi=coef(object,id=id)\n",
    "    xvars=names(coefi)\n",
    "    mat[,xvars] %*% coefi\n",
    "}"
   ]
  },
  {
   "cell_type": "markdown",
   "metadata": {},
   "source": [
    "Finally, we do BSS on the **full dataset**"
   ]
  },
  {
   "cell_type": "code",
   "execution_count": 83,
   "metadata": {
    "collapsed": false
   },
   "outputs": [
    {
     "data": {
      "text/html": [
       "<dl class=dl-horizontal>\n",
       "\t<dt>(Intercept)</dt>\n",
       "\t\t<dd>162.535442040545</dd>\n",
       "\t<dt>AtBat</dt>\n",
       "\t\t<dd>-2.16865005340437</dd>\n",
       "\t<dt>Hits</dt>\n",
       "\t\t<dd>6.91801749476659</dd>\n",
       "\t<dt>Walks</dt>\n",
       "\t\t<dd>5.7732246470264</dd>\n",
       "\t<dt>CAtBat</dt>\n",
       "\t\t<dd>-0.130079783913646</dd>\n",
       "\t<dt>CRuns</dt>\n",
       "\t\t<dd>1.40824900877044</dd>\n",
       "\t<dt>CRBI</dt>\n",
       "\t\t<dd>0.774312153250204</dd>\n",
       "\t<dt>CWalks</dt>\n",
       "\t\t<dd>-0.830826351501743</dd>\n",
       "\t<dt>DivisionW</dt>\n",
       "\t\t<dd>-112.380057493543</dd>\n",
       "\t<dt>PutOuts</dt>\n",
       "\t\t<dd>0.297372596603942</dd>\n",
       "\t<dt>Assists</dt>\n",
       "\t\t<dd>0.283168028635278</dd>\n",
       "</dl>\n"
      ],
      "text/latex": [
       "\\begin{description*}\n",
       "\\item[(Intercept)] 162.535442040545\n",
       "\\item[AtBat] -2.16865005340437\n",
       "\\item[Hits] 6.91801749476659\n",
       "\\item[Walks] 5.7732246470264\n",
       "\\item[CAtBat] -0.130079783913646\n",
       "\\item[CRuns] 1.40824900877044\n",
       "\\item[CRBI] 0.774312153250204\n",
       "\\item[CWalks] -0.830826351501743\n",
       "\\item[DivisionW] -112.380057493543\n",
       "\\item[PutOuts] 0.297372596603942\n",
       "\\item[Assists] 0.283168028635278\n",
       "\\end{description*}\n"
      ],
      "text/markdown": [
       "(Intercept)\n",
       ":   162.535442040545AtBat\n",
       ":   -2.16865005340437Hits\n",
       ":   6.91801749476659Walks\n",
       ":   5.7732246470264CAtBat\n",
       ":   -0.130079783913646CRuns\n",
       ":   1.40824900877044CRBI\n",
       ":   0.774312153250204CWalks\n",
       ":   -0.830826351501743DivisionW\n",
       ":   -112.380057493543PutOuts\n",
       ":   0.297372596603942Assists\n",
       ":   0.283168028635278\n",
       "\n"
      ],
      "text/plain": [
       " (Intercept)        AtBat         Hits        Walks       CAtBat        CRuns \n",
       " 162.5354420   -2.1686501    6.9180175    5.7732246   -0.1300798    1.4082490 \n",
       "        CRBI       CWalks    DivisionW      PutOuts      Assists \n",
       "   0.7743122   -0.8308264 -112.3800575    0.2973726    0.2831680 "
      ]
     },
     "metadata": {},
     "output_type": "display_data"
    }
   ],
   "source": [
    "regfit.best=regsubsets(Salary∼.,data=Hitters ,nvmax =19)\n",
    "coef(regfit.best,10)"
   ]
  },
  {
   "cell_type": "markdown",
   "metadata": {},
   "source": [
    "The coefficients for regression on the validation set are very different from coefficients on the entire data set\n",
    "\n",
    "Let's try Cross-Validation now\n",
    "\n",
    "### Cross Validation Approach\n",
    "\n",
    "1. Randomly assign each observation to a fold\n",
    "2. For each fold, consider the fold as the test set, and carry out BSS on the rest of the data and measure the MSE against model level against each fold (level = number of vars in the model)\n",
    "3. Average the MSEs for each model level across the folds and choose the level that has least MSE\n",
    "4. Perform BSS against the entire dataset for that model level"
   ]
  },
  {
   "cell_type": "code",
   "execution_count": 90,
   "metadata": {
    "collapsed": false
   },
   "outputs": [],
   "source": [
    "k=10\n",
    "set.seed(1)\n",
    "\n",
    "# folds will contain as many rows as Hitters, and assign a number from 1..k to each of those rows\n",
    "# This is equivalent to assigning a fold to each row in Hitters\n",
    "folds=sample(1:k,nrow(Hitters),replace=TRUE)\n",
    "\n",
    "# Create a k*19 matrix, filled with NAs\n",
    "# Each [j,i] cell of this matrix will contain the test MSE for the jth fold, for a model containing i variables\n",
    "cv.errors=matrix(NA,k,19,dimnames=list(NULL,paste(1:19)))"
   ]
  },
  {
   "cell_type": "markdown",
   "metadata": {},
   "source": [
    "Create a Loop to do X-Validation"
   ]
  },
  {
   "cell_type": "code",
   "execution_count": 91,
   "metadata": {
    "collapsed": true
   },
   "outputs": [],
   "source": [
    "for(j in 1:k){\n",
    "    train=(folds!=j)\n",
    "    \n",
    "    best.fit=regsubsets(Salary~.,data=Hitters[folds!=j,],nvmax=19)\n",
    "    for(i in 1:19){\n",
    "        pred=predict(best.fit,Hitters[folds==j,],id=i)\n",
    "        cv.errors[j,i]=mean((Hitters$Salary[folds==j])-pred)^2\n",
    "    }\n",
    "}"
   ]
  },
  {
   "cell_type": "markdown",
   "metadata": {},
   "source": [
    "Now use `apply` to average over the columns to obtain a vector where the jth element is the X-validation error for the j-variable model\n",
    "\n",
    "`apply(my_matrix,2,mean)` applies the mean function for the matrix along the columns (2=columns,1=rows)"
   ]
  },
  {
   "cell_type": "code",
   "execution_count": 93,
   "metadata": {
    "collapsed": false
   },
   "outputs": [
    {
     "data": {
      "image/png": "[encoded data removed]",
      "text/plain": [
       "plot without title"
      ]
     },
     "metadata": {},
     "output_type": "display_data"
    }
   ],
   "source": [
    "mean.cv.errors=apply(cv.errors,2,mean)\n",
    "\n",
    "plot(mean.cv.errors,type='b')"
   ]
  },
  {
   "cell_type": "markdown",
   "metadata": {},
   "source": [
    "The lowest MSE is for a 11-variable model. So let's to BSS for the whole dataset and pick up the coefs for a 11-var model."
   ]
  },
  {
   "cell_type": "code",
   "execution_count": 94,
   "metadata": {
    "collapsed": false
   },
   "outputs": [
    {
     "data": {
      "text/html": [
       "<dl class=dl-horizontal>\n",
       "\t<dt>(Intercept)</dt>\n",
       "\t\t<dd>135.751219457458</dd>\n",
       "\t<dt>AtBat</dt>\n",
       "\t\t<dd>-2.12774819603869</dd>\n",
       "\t<dt>Hits</dt>\n",
       "\t\t<dd>6.92369939666552</dd>\n",
       "\t<dt>Walks</dt>\n",
       "\t\t<dd>5.62027551957861</dd>\n",
       "\t<dt>CAtBat</dt>\n",
       "\t\t<dd>-0.138991434861849</dd>\n",
       "\t<dt>CRuns</dt>\n",
       "\t\t<dd>1.45533103037942</dd>\n",
       "\t<dt>CRBI</dt>\n",
       "\t\t<dd>0.785252782049429</dd>\n",
       "\t<dt>CWalks</dt>\n",
       "\t\t<dd>-0.822855923951907</dd>\n",
       "\t<dt>LeagueN</dt>\n",
       "\t\t<dd>43.1116151638512</dd>\n",
       "\t<dt>DivisionW</dt>\n",
       "\t\t<dd>-111.14602518374</dd>\n",
       "\t<dt>PutOuts</dt>\n",
       "\t\t<dd>0.289408680295373</dd>\n",
       "\t<dt>Assists</dt>\n",
       "\t\t<dd>0.26882769003494</dd>\n",
       "</dl>\n"
      ],
      "text/latex": [
       "\\begin{description*}\n",
       "\\item[(Intercept)] 135.751219457458\n",
       "\\item[AtBat] -2.12774819603869\n",
       "\\item[Hits] 6.92369939666552\n",
       "\\item[Walks] 5.62027551957861\n",
       "\\item[CAtBat] -0.138991434861849\n",
       "\\item[CRuns] 1.45533103037942\n",
       "\\item[CRBI] 0.785252782049429\n",
       "\\item[CWalks] -0.822855923951907\n",
       "\\item[LeagueN] 43.1116151638512\n",
       "\\item[DivisionW] -111.14602518374\n",
       "\\item[PutOuts] 0.289408680295373\n",
       "\\item[Assists] 0.26882769003494\n",
       "\\end{description*}\n"
      ],
      "text/markdown": [
       "(Intercept)\n",
       ":   135.751219457458AtBat\n",
       ":   -2.12774819603869Hits\n",
       ":   6.92369939666552Walks\n",
       ":   5.62027551957861CAtBat\n",
       ":   -0.138991434861849CRuns\n",
       ":   1.45533103037942CRBI\n",
       ":   0.785252782049429CWalks\n",
       ":   -0.822855923951907LeagueN\n",
       ":   43.1116151638512DivisionW\n",
       ":   -111.14602518374PutOuts\n",
       ":   0.289408680295373Assists\n",
       ":   0.26882769003494\n",
       "\n"
      ],
      "text/plain": [
       " (Intercept)        AtBat         Hits        Walks       CAtBat        CRuns \n",
       " 135.7512195   -2.1277482    6.9236994    5.6202755   -0.1389914    1.4553310 \n",
       "        CRBI       CWalks      LeagueN    DivisionW      PutOuts      Assists \n",
       "   0.7852528   -0.8228559   43.1116152 -111.1460252    0.2894087    0.2688277 "
      ]
     },
     "metadata": {},
     "output_type": "display_data"
    }
   ],
   "source": [
    "reg.best=regsubsets(Salary∼.,data=Hitters , nvmax =19)\n",
    "coef(reg.best,11)"
   ]
  },
  {
   "cell_type": "markdown",
   "metadata": {},
   "source": [
    "## Hybrid\n",
    "\n",
    "Involves FSS and BaSS. As in FSS, adds new variables sequentially. But after adding each new variable, it may also remove variables that don't provide an improvement. This mimics BSS but without increasing computational overhead"
   ]
  }
 ],
 "metadata": {
  "kernelspec": {
   "display_name": "R",
   "language": "R",
   "name": "ir"
  },
  "language_info": {
   "codemirror_mode": "r",
   "file_extension": ".r",
   "mimetype": "text/x-r-source",
   "name": "R",
   "pygments_lexer": "r",
   "version": "3.3.1"
  }
 },
 "nbformat": 4,
 "nbformat_minor": 2
}
