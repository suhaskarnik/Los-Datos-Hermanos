{
 "cells": [
  {
   "cell_type": "code",
   "execution_count": 51,
   "metadata": {
    "collapsed": false
   },
   "outputs": [],
   "source": [
    "library(ISLR)\n",
    "library(boot)\n",
    "library(dplyr)\n",
    "set.seed(5)\n",
    "train=sample(10000,5000)"
   ]
  },
  {
   "cell_type": "markdown",
   "metadata": {},
   "source": [
    "# Validation Set approach for Logistic Reg"
   ]
  },
  {
   "cell_type": "code",
   "execution_count": 95,
   "metadata": {
    "collapsed": false
   },
   "outputs": [
    {
     "name": "stdout",
     "output_type": "stream",
     "text": [
      "[1] \"default~income+balance\"\n",
      "[1] \"default~income+balance\"\n",
      "[1] \"default~income+balance\"\n",
      "[1] \"default~income+balance\"\n",
      "[1] \"default~income+balance\"\n",
      "[1] \"default~income+balance\"\n",
      "[1] \"default~income+balance\"\n",
      "[1] \"default~income+balance\"\n",
      "[1] \"default~income+balance+student\"\n"
     ]
    },
    {
     "name": "stderr",
     "output_type": "stream",
     "text": [
      "Warning message in `[<-.factor`(`*tmp*`, ri, value = \"income,balance,student\"):\n",
      "\"invalid factor level, NA generated\""
     ]
    },
    {
     "name": "stdout",
     "output_type": "stream",
     "text": [
      "[1] \"default~income+balance+student\"\n"
     ]
    },
    {
     "name": "stderr",
     "output_type": "stream",
     "text": [
      "Warning message in `[<-.factor`(`*tmp*`, ri, value = \"income,balance,student\"):\n",
      "\"invalid factor level, NA generated\""
     ]
    },
    {
     "name": "stdout",
     "output_type": "stream",
     "text": [
      "[1] \"default~income+balance+student\"\n"
     ]
    },
    {
     "name": "stderr",
     "output_type": "stream",
     "text": [
      "Warning message in `[<-.factor`(`*tmp*`, ri, value = \"income,balance,student\"):\n",
      "\"invalid factor level, NA generated\""
     ]
    },
    {
     "name": "stdout",
     "output_type": "stream",
     "text": [
      "[1] \"default~income+balance+student\"\n"
     ]
    },
    {
     "name": "stderr",
     "output_type": "stream",
     "text": [
      "Warning message in `[<-.factor`(`*tmp*`, ri, value = \"income,balance,student\"):\n",
      "\"invalid factor level, NA generated\""
     ]
    },
    {
     "name": "stdout",
     "output_type": "stream",
     "text": [
      "[1] \"default~income+balance+student\"\n"
     ]
    },
    {
     "name": "stderr",
     "output_type": "stream",
     "text": [
      "Warning message in `[<-.factor`(`*tmp*`, ri, value = \"income,balance,student\"):\n",
      "\"invalid factor level, NA generated\""
     ]
    },
    {
     "name": "stdout",
     "output_type": "stream",
     "text": [
      "[1] \"default~income+balance+student\"\n"
     ]
    },
    {
     "name": "stderr",
     "output_type": "stream",
     "text": [
      "Warning message in `[<-.factor`(`*tmp*`, ri, value = \"income,balance,student\"):\n",
      "\"invalid factor level, NA generated\""
     ]
    },
    {
     "name": "stdout",
     "output_type": "stream",
     "text": [
      "[1] \"default~income+balance+student\"\n"
     ]
    },
    {
     "name": "stderr",
     "output_type": "stream",
     "text": [
      "Warning message in `[<-.factor`(`*tmp*`, ri, value = \"income,balance,student\"):\n",
      "\"invalid factor level, NA generated\""
     ]
    },
    {
     "name": "stdout",
     "output_type": "stream",
     "text": [
      "[1] \"default~income+balance+student\"\n"
     ]
    },
    {
     "name": "stderr",
     "output_type": "stream",
     "text": [
      "Warning message in `[<-.factor`(`*tmp*`, ri, value = \"income,balance,student\"):\n",
      "\"invalid factor level, NA generated\""
     ]
    },
    {
     "data": {
      "text/html": [
       "<table>\n",
       "<thead><tr><th scope=col>seed</th><th scope=col>predictors</th><th scope=col>error</th></tr></thead>\n",
       "<tbody>\n",
       "\t<tr><td> 6            </td><td>income,balance</td><td>0.0264        </td></tr>\n",
       "\t<tr><td> 8            </td><td>income,balance</td><td>0.0262        </td></tr>\n",
       "\t<tr><td>10            </td><td>income,balance</td><td>0.0256        </td></tr>\n",
       "\t<tr><td>12            </td><td>income,balance</td><td>0.0236        </td></tr>\n",
       "\t<tr><td>14            </td><td>income,balance</td><td>0.0258        </td></tr>\n",
       "\t<tr><td>16            </td><td>income,balance</td><td>0.0278        </td></tr>\n",
       "\t<tr><td>18            </td><td>income,balance</td><td>0.0234        </td></tr>\n",
       "\t<tr><td>20            </td><td>income,balance</td><td>0.0266        </td></tr>\n",
       "\t<tr><td> 6            </td><td>NA            </td><td>0.0236        </td></tr>\n",
       "\t<tr><td> 8            </td><td>NA            </td><td>0.0282        </td></tr>\n",
       "\t<tr><td>10            </td><td>NA            </td><td>0.0254        </td></tr>\n",
       "\t<tr><td>12            </td><td>NA            </td><td>0.0242        </td></tr>\n",
       "\t<tr><td>14            </td><td>NA            </td><td>0.0262        </td></tr>\n",
       "\t<tr><td>16            </td><td>NA            </td><td>0.0264        </td></tr>\n",
       "\t<tr><td>18            </td><td>NA            </td><td>0.0282        </td></tr>\n",
       "\t<tr><td>20            </td><td>NA            </td><td>0.0294        </td></tr>\n",
       "</tbody>\n",
       "</table>\n"
      ],
      "text/latex": [
       "\\begin{tabular}{r|lll}\n",
       " seed & predictors & error\\\\\n",
       "\\hline\n",
       "\t  6             & income,balance & 0.0264        \\\\\n",
       "\t  8             & income,balance & 0.0262        \\\\\n",
       "\t 10             & income,balance & 0.0256        \\\\\n",
       "\t 12             & income,balance & 0.0236        \\\\\n",
       "\t 14             & income,balance & 0.0258        \\\\\n",
       "\t 16             & income,balance & 0.0278        \\\\\n",
       "\t 18             & income,balance & 0.0234        \\\\\n",
       "\t 20             & income,balance & 0.0266        \\\\\n",
       "\t  6             & NA             & 0.0236        \\\\\n",
       "\t  8             & NA             & 0.0282        \\\\\n",
       "\t 10             & NA             & 0.0254        \\\\\n",
       "\t 12             & NA             & 0.0242        \\\\\n",
       "\t 14             & NA             & 0.0262        \\\\\n",
       "\t 16             & NA             & 0.0264        \\\\\n",
       "\t 18             & NA             & 0.0282        \\\\\n",
       "\t 20             & NA             & 0.0294        \\\\\n",
       "\\end{tabular}\n"
      ],
      "text/markdown": [
       "\n",
       "seed | predictors | error | \n",
       "|---|---|---|---|---|---|---|---|---|---|---|---|---|---|---|---|\n",
       "|  6             | income,balance | 0.0264         | \n",
       "|  8             | income,balance | 0.0262         | \n",
       "| 10             | income,balance | 0.0256         | \n",
       "| 12             | income,balance | 0.0236         | \n",
       "| 14             | income,balance | 0.0258         | \n",
       "| 16             | income,balance | 0.0278         | \n",
       "| 18             | income,balance | 0.0234         | \n",
       "| 20             | income,balance | 0.0266         | \n",
       "|  6             | NA             | 0.0236         | \n",
       "|  8             | NA             | 0.0282         | \n",
       "| 10             | NA             | 0.0254         | \n",
       "| 12             | NA             | 0.0242         | \n",
       "| 14             | NA             | 0.0262         | \n",
       "| 16             | NA             | 0.0264         | \n",
       "| 18             | NA             | 0.0282         | \n",
       "| 20             | NA             | 0.0294         | \n",
       "\n",
       "\n"
      ],
      "text/plain": [
       "   seed predictors     error \n",
       "1   6   income,balance 0.0264\n",
       "2   8   income,balance 0.0262\n",
       "3  10   income,balance 0.0256\n",
       "4  12   income,balance 0.0236\n",
       "5  14   income,balance 0.0258\n",
       "6  16   income,balance 0.0278\n",
       "7  18   income,balance 0.0234\n",
       "8  20   income,balance 0.0266\n",
       "9   6   NA             0.0236\n",
       "10  8   NA             0.0282\n",
       "11 10   NA             0.0254\n",
       "12 12   NA             0.0242\n",
       "13 14   NA             0.0262\n",
       "14 16   NA             0.0264\n",
       "15 18   NA             0.0282\n",
       "16 20   NA             0.0294"
      ]
     },
     "metadata": {},
     "output_type": "display_data"
    }
   ],
   "source": [
    "logreg.fn=function(data,index,predictors=c(\"income\",\"balance\")){\n",
    "    f=as.formula(paste0(\"default~\",paste0(predictors,collapse=\"+\")))\n",
    "    print(paste0(\"default~\",paste0(predictors,collapse=\"+\")))\n",
    "    \n",
    "    glm.fit=glm(f,data=Default,family=binomial,subset = index)\n",
    "    glm.probs=predict(glm.fit,Default[-index,],type=\"response\")\n",
    "    glm.preds=rep(\"No\",nrow(data)-length(index))\n",
    "    glm.preds[glm.probs>0.5] =\"Yes\"\n",
    "    glm.preds\n",
    "}\n",
    "    \n",
    "\n",
    "\n",
    "#glm.fit=glm(default~income+balance,data=Default,family=binomial,subset = train)\n",
    "\n",
    "#glm.probs=predict(glm.fit,Default[-train,],type=\"response\")\n",
    "\n",
    "#glm.preds=rep(\"No\",5000)\n",
    "#glm.preds[glm.probs>0.5] =\"Yes\"\n",
    "\n",
    "\n",
    "vsErrors=data.frame(stringsAsFactors = FALSE)\n",
    "vsErrors=vsErrors %>% mutate(seed=NA,predictors=NA,error=NA)\n",
    "\n",
    "for(seed in seq(6,20,by=2)){\n",
    "    train=sample(10000,5000)\n",
    "    predictors=c(\"income\",\"balance\")\n",
    "    glm.preds=logreg.fn(Default,train,predictors)\n",
    "    vse=sum(glm.preds!=Default[-train,]$default)/5000\n",
    "    vsErrors=vsErrors %>% rbind(list(seed=seed,predictors=paste0(predictors,collapse=\",\"),error=vse))\n",
    "}\n",
    "\n",
    "for(seed in seq(6,20,by=2)){\n",
    "    train=sample(10000,5000)\n",
    "    predictors=c(\"income\",\"balance\",\"student\")\n",
    "    glm.preds=logreg.fn(Default,train,predictors)\n",
    "    vse=sum(glm.preds!=Default[-train,]$default)/5000\n",
    "    vsErrors=vsErrors %>% rbind(list(seed=seed,predictors=paste0(predictors,collapse=\",\"),error=vse))\n",
    "}\n",
    "\n",
    "\n",
    "vsErrors"
   ]
  }
 ],
 "metadata": {
  "kernelspec": {
   "display_name": "R",
   "language": "R",
   "name": "ir"
  },
  "language_info": {
   "codemirror_mode": "r",
   "file_extension": ".r",
   "mimetype": "text/x-r-source",
   "name": "R",
   "pygments_lexer": "r",
   "version": "3.3.1"
  }
 },
 "nbformat": 4,
 "nbformat_minor": 2
}
