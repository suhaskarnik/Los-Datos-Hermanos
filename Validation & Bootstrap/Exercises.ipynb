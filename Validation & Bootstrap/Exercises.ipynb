{
 "cells": [
  {
   "cell_type": "code",
   "execution_count": 1,
   "metadata": {
    "collapsed": false
   },
   "outputs": [
    {
     "name": "stderr",
     "output_type": "stream",
     "text": [
      "Warning message:\n",
      "\"package 'ISLR' was built under R version 3.3.2\"Warning message:\n",
      "\"package 'dplyr' was built under R version 3.3.3\"\n",
      "Attaching package: 'dplyr'\n",
      "\n",
      "The following objects are masked from 'package:stats':\n",
      "\n",
      "    filter, lag\n",
      "\n",
      "The following objects are masked from 'package:base':\n",
      "\n",
      "    intersect, setdiff, setequal, union\n",
      "\n"
     ]
    }
   ],
   "source": [
    "library(ISLR)\n",
    "library(boot)\n",
    "library(dplyr)\n",
    "set.seed(5)\n",
    "train=sample(10000,5000)"
   ]
  },
  {
   "cell_type": "markdown",
   "metadata": {},
   "source": [
    "# Validation Set approach for Logistic Reg"
   ]
  },
  {
   "cell_type": "code",
   "execution_count": 25,
   "metadata": {
    "collapsed": false
   },
   "outputs": [
    {
     "data": {
      "text/plain": [
       "$`income,balance`\n",
       "   Min. 1st Qu.  Median    Mean 3rd Qu.    Max. \n",
       "0.02380 0.02475 0.02490 0.02550 0.02565 0.02840 \n",
       "\n",
       "$`income,balance,student`\n",
       "   Min. 1st Qu.  Median    Mean 3rd Qu.    Max. \n",
       "0.02420 0.02515 0.02730 0.02678 0.02810 0.02880 \n"
      ]
     },
     "metadata": {},
     "output_type": "display_data"
    }
   ],
   "source": [
    "logreg.fn=function(data,index,predictors=c(\"income\",\"balance\"),response=c(\"predictions\")){\n",
    "    f=as.formula(paste0(\"default~\",paste0(predictors,collapse=\"+\")))\n",
    "    \n",
    "    glm.fit=glm(f,data=Default,family=binomial,subset = index)\n",
    "    glm.probs=predict(glm.fit,Default[-index,],type=\"response\")\n",
    "    glm.preds=rep(\"No\",nrow(data)-length(index))\n",
    "    glm.preds[glm.probs>0.5] =\"Yes\"\n",
    "    \n",
    "    if(response==\"predictions\")\n",
    "        glm.preds\n",
    "    else if(response==\"model\")\n",
    "        glm.fit\n",
    "        \n",
    "}\n",
    "    \n",
    "\n",
    "vsErrors=data.frame(seed=integer(),predictors=character(),error=double(),stringsAsFactors = FALSE)\n",
    "\n",
    "for(seed in seq(6,20,by=2)){\n",
    "    train=sample(10000,5000)\n",
    "    predictors=c(\"income\",\"balance\")\n",
    "    glm.preds=logreg.fn(Default,train,predictors)\n",
    "    vse=sum(glm.preds!=Default[-train,]$default)/5000\n",
    "    vsErrors=vsErrors %>% rbind(list(seed=seed,predictors=paste0(predictors,collapse=\",\"),error=vse))\n",
    "}\n",
    "vsErrors$predictors=as.character(vsErrors$predictors)\n",
    "\n",
    "for(seed in seq(6,20,by=2)){\n",
    "    train=sample(10000,5000)\n",
    "    predictors=c(\"income\",\"balance\",\"student\")\n",
    "    glm.preds=logreg.fn(Default,train,predictors)\n",
    "    vse=sum(glm.preds!=Default[-train,]$default)/5000\n",
    "    vsErrors=vsErrors %>% rbind(list(seed=seed,predictors=paste0(predictors,collapse=\",\"),error=vse))\n",
    "}\n",
    "\n",
    "tapply(vsErrors$error,vsErrors$predictors,summary)"
   ]
  },
  {
   "cell_type": "markdown",
   "metadata": {},
   "source": [
    "Using the `summay()` and `glm()` functions, determine est. Std. Errors for `default~income+balance`"
   ]
  },
  {
   "cell_type": "code",
   "execution_count": 34,
   "metadata": {
    "collapsed": false
   },
   "outputs": [
    {
     "data": {
      "text/plain": [
       "\n",
       "Call:\n",
       "glm(formula = default ~ income + balance, family = binomial, \n",
       "    data = Default)\n",
       "\n",
       "Deviance Residuals: \n",
       "    Min       1Q   Median       3Q      Max  \n",
       "-2.4725  -0.1444  -0.0574  -0.0211   3.7245  \n",
       "\n",
       "Coefficients:\n",
       "              Estimate Std. Error z value Pr(>|z|)    \n",
       "(Intercept) -1.154e+01  4.348e-01 -26.545  < 2e-16 ***\n",
       "income       2.081e-05  4.985e-06   4.174 2.99e-05 ***\n",
       "balance      5.647e-03  2.274e-04  24.836  < 2e-16 ***\n",
       "---\n",
       "Signif. codes:  0 '***' 0.001 '**' 0.01 '*' 0.05 '.' 0.1 ' ' 1\n",
       "\n",
       "(Dispersion parameter for binomial family taken to be 1)\n",
       "\n",
       "    Null deviance: 2920.6  on 9999  degrees of freedom\n",
       "Residual deviance: 1579.0  on 9997  degrees of freedom\n",
       "AIC: 1585\n",
       "\n",
       "Number of Fisher Scoring iterations: 8\n"
      ]
     },
     "metadata": {},
     "output_type": "display_data"
    }
   ],
   "source": [
    "glm.fit=glm(default~income+balance,data=Default,family=binomial)\n",
    "summary(glm.fit)"
   ]
  },
  {
   "cell_type": "markdown",
   "metadata": {},
   "source": [
    "Write a function, `boot.fn()`, that takes as input the Default data set as well as an index of the observations, and that outputs the coefficient estimates for income and balance in the multiple logistic regression model.\n",
    "\n",
    "Use the `boot()` function together with your boot.fn() function to estimate the standard errors of the logistic regression coefficients for income and balance."
   ]
  },
  {
   "cell_type": "code",
   "execution_count": 37,
   "metadata": {
    "collapsed": false
   },
   "outputs": [
    {
     "data": {
      "text/plain": [
       "\n",
       "ORDINARY NONPARAMETRIC BOOTSTRAP\n",
       "\n",
       "\n",
       "Call:\n",
       "boot(data = Default, statistic = boot.fn, R = 1000)\n",
       "\n",
       "\n",
       "Bootstrap Statistics :\n",
       "         original        bias     std. error\n",
       "t1* -1.154047e+01 -1.819609e-02 4.416655e-01\n",
       "t2*  2.080898e-05 -5.361627e-09 4.821955e-06\n",
       "t3*  5.647103e-03  1.052143e-05 2.326739e-04"
      ]
     },
     "metadata": {},
     "output_type": "display_data"
    }
   ],
   "source": [
    "boot.fn = function(data,index)\n",
    "    coef(glm(default~income+balance,data=Default,subset = index,family = binomial))\n",
    "\n",
    "    \n",
    "# Create 1000 data sets by sampling from Default, apply the boot.fn on that and assess the variability of the results\n",
    "boot(Default,boot.fn,1000)"
   ]
  }
 ],
 "metadata": {
  "kernelspec": {
   "display_name": "R",
   "language": "R",
   "name": "ir"
  },
  "language_info": {
   "codemirror_mode": "r",
   "file_extension": ".r",
   "mimetype": "text/x-r-source",
   "name": "R",
   "pygments_lexer": "r",
   "version": "3.3.1"
  }
 },
 "nbformat": 4,
 "nbformat_minor": 2
}
