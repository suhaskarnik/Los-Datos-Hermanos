{
 "cells": [
  {
   "cell_type": "markdown",
   "metadata": {},
   "source": [
    "# Predict today's direction based on all other variables\n",
    "This notebook follows the lab exercise for ISLR Classification Chapter\n",
    "\n",
    "Lag1-5 are the % returns of the previous 5 days\n",
    "\n",
    "Create a correlation matrix between the Variables (except Direction, which is qualititative) "
   ]
  },
  {
   "cell_type": "code",
   "execution_count": null,
   "metadata": {
    "collapsed": true
   },
   "outputs": [],
   "source": [
    "library(ISLR)\n",
    "attach(Smarket)"
   ]
  },
  {
   "cell_type": "code",
   "execution_count": 21,
   "metadata": {
    "collapsed": false,
    "scrolled": false
   },
   "outputs": [
    {
     "data": {
      "text/html": [
       "<table>\n",
       "<thead><tr><th></th><th scope=col>Year</th><th scope=col>Lag1</th><th scope=col>Lag2</th><th scope=col>Lag3</th><th scope=col>Lag4</th><th scope=col>Lag5</th><th scope=col>Volume</th><th scope=col>Today</th></tr></thead>\n",
       "<tbody>\n",
       "\t<tr><th scope=row>Year</th><td>1.00000000  </td><td> 0.029699649</td><td> 0.030596422</td><td> 0.033194581</td><td> 0.035688718</td><td> 0.029787995</td><td> 0.53900647 </td><td> 0.030095229</td></tr>\n",
       "\t<tr><th scope=row>Lag1</th><td>0.02969965  </td><td> 1.000000000</td><td>-0.026294328</td><td>-0.010803402</td><td>-0.002985911</td><td>-0.005674606</td><td> 0.04090991 </td><td>-0.026155045</td></tr>\n",
       "\t<tr><th scope=row>Lag2</th><td>0.03059642  </td><td>-0.026294328</td><td> 1.000000000</td><td>-0.025896670</td><td>-0.010853533</td><td>-0.003557949</td><td>-0.04338321 </td><td>-0.010250033</td></tr>\n",
       "\t<tr><th scope=row>Lag3</th><td>0.03319458  </td><td>-0.010803402</td><td>-0.025896670</td><td> 1.000000000</td><td>-0.024051036</td><td>-0.018808338</td><td>-0.04182369 </td><td>-0.002447647</td></tr>\n",
       "\t<tr><th scope=row>Lag4</th><td>0.03568872  </td><td>-0.002985911</td><td>-0.010853533</td><td>-0.024051036</td><td> 1.000000000</td><td>-0.027083641</td><td>-0.04841425 </td><td>-0.006899527</td></tr>\n",
       "\t<tr><th scope=row>Lag5</th><td>0.02978799  </td><td>-0.005674606</td><td>-0.003557949</td><td>-0.018808338</td><td>-0.027083641</td><td> 1.000000000</td><td>-0.02200231 </td><td>-0.034860083</td></tr>\n",
       "\t<tr><th scope=row>Volume</th><td>0.53900647  </td><td> 0.040909908</td><td>-0.043383215</td><td>-0.041823686</td><td>-0.048414246</td><td>-0.022002315</td><td> 1.00000000 </td><td> 0.014591823</td></tr>\n",
       "\t<tr><th scope=row>Today</th><td>0.03009523  </td><td>-0.026155045</td><td>-0.010250033</td><td>-0.002447647</td><td>-0.006899527</td><td>-0.034860083</td><td> 0.01459182 </td><td> 1.000000000</td></tr>\n",
       "</tbody>\n",
       "</table>\n"
      ],
      "text/latex": [
       "\\begin{tabular}{r|llllllll}\n",
       "  & Year & Lag1 & Lag2 & Lag3 & Lag4 & Lag5 & Volume & Today\\\\\n",
       "\\hline\n",
       "\tYear & 1.00000000   &  0.029699649 &  0.030596422 &  0.033194581 &  0.035688718 &  0.029787995 &  0.53900647  &  0.030095229\\\\\n",
       "\tLag1 & 0.02969965   &  1.000000000 & -0.026294328 & -0.010803402 & -0.002985911 & -0.005674606 &  0.04090991  & -0.026155045\\\\\n",
       "\tLag2 & 0.03059642   & -0.026294328 &  1.000000000 & -0.025896670 & -0.010853533 & -0.003557949 & -0.04338321  & -0.010250033\\\\\n",
       "\tLag3 & 0.03319458   & -0.010803402 & -0.025896670 &  1.000000000 & -0.024051036 & -0.018808338 & -0.04182369  & -0.002447647\\\\\n",
       "\tLag4 & 0.03568872   & -0.002985911 & -0.010853533 & -0.024051036 &  1.000000000 & -0.027083641 & -0.04841425  & -0.006899527\\\\\n",
       "\tLag5 & 0.02978799   & -0.005674606 & -0.003557949 & -0.018808338 & -0.027083641 &  1.000000000 & -0.02200231  & -0.034860083\\\\\n",
       "\tVolume & 0.53900647   &  0.040909908 & -0.043383215 & -0.041823686 & -0.048414246 & -0.022002315 &  1.00000000  &  0.014591823\\\\\n",
       "\tToday & 0.03009523   & -0.026155045 & -0.010250033 & -0.002447647 & -0.006899527 & -0.034860083 &  0.01459182  &  1.000000000\\\\\n",
       "\\end{tabular}\n"
      ],
      "text/markdown": [
       "\n",
       "| <!--/--> | Year | Lag1 | Lag2 | Lag3 | Lag4 | Lag5 | Volume | Today | \n",
       "|---|---|---|---|---|---|---|---|\n",
       "| Year | 1.00000000   |  0.029699649 |  0.030596422 |  0.033194581 |  0.035688718 |  0.029787995 |  0.53900647  |  0.030095229 | \n",
       "| Lag1 | 0.02969965   |  1.000000000 | -0.026294328 | -0.010803402 | -0.002985911 | -0.005674606 |  0.04090991  | -0.026155045 | \n",
       "| Lag2 | 0.03059642   | -0.026294328 |  1.000000000 | -0.025896670 | -0.010853533 | -0.003557949 | -0.04338321  | -0.010250033 | \n",
       "| Lag3 | 0.03319458   | -0.010803402 | -0.025896670 |  1.000000000 | -0.024051036 | -0.018808338 | -0.04182369  | -0.002447647 | \n",
       "| Lag4 | 0.03568872   | -0.002985911 | -0.010853533 | -0.024051036 |  1.000000000 | -0.027083641 | -0.04841425  | -0.006899527 | \n",
       "| Lag5 | 0.02978799   | -0.005674606 | -0.003557949 | -0.018808338 | -0.027083641 |  1.000000000 | -0.02200231  | -0.034860083 | \n",
       "| Volume | 0.53900647   |  0.040909908 | -0.043383215 | -0.041823686 | -0.048414246 | -0.022002315 |  1.00000000  |  0.014591823 | \n",
       "| Today | 0.03009523   | -0.026155045 | -0.010250033 | -0.002447647 | -0.006899527 | -0.034860083 |  0.01459182  |  1.000000000 | \n",
       "\n",
       "\n"
      ],
      "text/plain": [
       "       Year       Lag1         Lag2         Lag3         Lag4        \n",
       "Year   1.00000000  0.029699649  0.030596422  0.033194581  0.035688718\n",
       "Lag1   0.02969965  1.000000000 -0.026294328 -0.010803402 -0.002985911\n",
       "Lag2   0.03059642 -0.026294328  1.000000000 -0.025896670 -0.010853533\n",
       "Lag3   0.03319458 -0.010803402 -0.025896670  1.000000000 -0.024051036\n",
       "Lag4   0.03568872 -0.002985911 -0.010853533 -0.024051036  1.000000000\n",
       "Lag5   0.02978799 -0.005674606 -0.003557949 -0.018808338 -0.027083641\n",
       "Volume 0.53900647  0.040909908 -0.043383215 -0.041823686 -0.048414246\n",
       "Today  0.03009523 -0.026155045 -0.010250033 -0.002447647 -0.006899527\n",
       "       Lag5         Volume      Today       \n",
       "Year    0.029787995  0.53900647  0.030095229\n",
       "Lag1   -0.005674606  0.04090991 -0.026155045\n",
       "Lag2   -0.003557949 -0.04338321 -0.010250033\n",
       "Lag3   -0.018808338 -0.04182369 -0.002447647\n",
       "Lag4   -0.027083641 -0.04841425 -0.006899527\n",
       "Lag5    1.000000000 -0.02200231 -0.034860083\n",
       "Volume -0.022002315  1.00000000  0.014591823\n",
       "Today  -0.034860083  0.01459182  1.000000000"
      ]
     },
     "metadata": {},
     "output_type": "display_data"
    }
   ],
   "source": [
    "cor(Smarket[,-9])"
   ]
  },
  {
   "cell_type": "markdown",
   "metadata": {},
   "source": [
    "### Analysis\n",
    "* There's no correlation between today's returns and LagN variables (close to zero)\n",
    "* The only meaningful relationship seems to be between Volume and Year "
   ]
  },
  {
   "cell_type": "markdown",
   "metadata": {},
   "source": [
    "# Logistic Regression\n",
    "\n",
    "Logistic Regression is denoted by the `family=binomial` argument"
   ]
  },
  {
   "cell_type": "code",
   "execution_count": 2,
   "metadata": {
    "collapsed": false
   },
   "outputs": [
    {
     "data": {
      "text/plain": [
       "\n",
       "Call:\n",
       "glm(formula = Direction ~ Lag1 + Lag2 + Lag3 + Lag4 + Lag5 + \n",
       "    Volume, family = binomial, data = Smarket)\n",
       "\n",
       "Deviance Residuals: \n",
       "   Min      1Q  Median      3Q     Max  \n",
       "-1.446  -1.203   1.065   1.145   1.326  \n",
       "\n",
       "Coefficients:\n",
       "             Estimate Std. Error z value Pr(>|z|)\n",
       "(Intercept) -0.126000   0.240736  -0.523    0.601\n",
       "Lag1        -0.073074   0.050167  -1.457    0.145\n",
       "Lag2        -0.042301   0.050086  -0.845    0.398\n",
       "Lag3         0.011085   0.049939   0.222    0.824\n",
       "Lag4         0.009359   0.049974   0.187    0.851\n",
       "Lag5         0.010313   0.049511   0.208    0.835\n",
       "Volume       0.135441   0.158360   0.855    0.392\n",
       "\n",
       "(Dispersion parameter for binomial family taken to be 1)\n",
       "\n",
       "    Null deviance: 1731.2  on 1249  degrees of freedom\n",
       "Residual deviance: 1727.6  on 1243  degrees of freedom\n",
       "AIC: 1741.6\n",
       "\n",
       "Number of Fisher Scoring iterations: 3\n"
      ]
     },
     "metadata": {},
     "output_type": "display_data"
    }
   ],
   "source": [
    "glmfit=glm(Direction~Lag1+Lag2+Lag3+Lag4+Lag5+Volume,data=Smarket,family=binomial)\n",
    "summary(glmfit)"
   ]
  },
  {
   "cell_type": "markdown",
   "metadata": {},
   "source": [
    "### Analysis\n",
    "* Smallest p-value is for Lag1. And the coef is negative, so if market moved up last day, then it will move down today\n",
    "* But its p-value is still relatively high ($>0.05$), so no clear evidence of association betw Direction and Lag1\n",
    "* The `contrasts(Direction)` function indicates that R has created a dummy variable with a 1 for `Up`"
   ]
  },
  {
   "cell_type": "markdown",
   "metadata": {},
   "source": [
    "Use the `predict` function to predict (duh!) the probability that the market will go up/down\n",
    "\n",
    "The `type=\"response\"` option tells R to output probabilities for $P(Y=1|X)$, as opposed to other info like the Logit\n",
    "\n",
    "As no data is supplied to the `predict` function, it will try to predict for the training data set itself"
   ]
  },
  {
   "cell_type": "code",
   "execution_count": 3,
   "metadata": {
    "collapsed": false
   },
   "outputs": [
    {
     "data": {
      "text/html": [
       "<dl class=dl-horizontal>\n",
       "\t<dt>1</dt>\n",
       "\t\t<dd>0.507084133395401</dd>\n",
       "\t<dt>2</dt>\n",
       "\t\t<dd>0.481467878454591</dd>\n",
       "\t<dt>3</dt>\n",
       "\t\t<dd>0.481138835214201</dd>\n",
       "\t<dt>4</dt>\n",
       "\t\t<dd>0.515222355813022</dd>\n",
       "\t<dt>5</dt>\n",
       "\t\t<dd>0.510781162691538</dd>\n",
       "\t<dt>6</dt>\n",
       "\t\t<dd>0.506956460534911</dd>\n",
       "\t<dt>7</dt>\n",
       "\t\t<dd>0.492650874187038</dd>\n",
       "\t<dt>8</dt>\n",
       "\t\t<dd>0.509229158207377</dd>\n",
       "\t<dt>9</dt>\n",
       "\t\t<dd>0.517613526170958</dd>\n",
       "\t<dt>10</dt>\n",
       "\t\t<dd>0.488837779771376</dd>\n",
       "</dl>\n"
      ],
      "text/latex": [
       "\\begin{description*}\n",
       "\\item[1] 0.507084133395401\n",
       "\\item[2] 0.481467878454591\n",
       "\\item[3] 0.481138835214201\n",
       "\\item[4] 0.515222355813022\n",
       "\\item[5] 0.510781162691538\n",
       "\\item[6] 0.506956460534911\n",
       "\\item[7] 0.492650874187038\n",
       "\\item[8] 0.509229158207377\n",
       "\\item[9] 0.517613526170958\n",
       "\\item[10] 0.488837779771376\n",
       "\\end{description*}\n"
      ],
      "text/markdown": [
       "1\n",
       ":   0.5070841333954012\n",
       ":   0.4814678784545913\n",
       ":   0.4811388352142014\n",
       ":   0.5152223558130225\n",
       ":   0.5107811626915386\n",
       ":   0.5069564605349117\n",
       ":   0.4926508741870388\n",
       ":   0.5092291582073779\n",
       ":   0.51761352617095810\n",
       ":   0.488837779771376\n",
       "\n"
      ],
      "text/plain": [
       "        1         2         3         4         5         6         7         8 \n",
       "0.5070841 0.4814679 0.4811388 0.5152224 0.5107812 0.5069565 0.4926509 0.5092292 \n",
       "        9        10 \n",
       "0.5176135 0.4888378 "
      ]
     },
     "metadata": {},
     "output_type": "display_data"
    },
    {
     "data": {
      "text/html": [
       "<table>\n",
       "<thead><tr><th></th><th scope=col>Up</th></tr></thead>\n",
       "<tbody>\n",
       "\t<tr><th scope=row>Down</th><td>0</td></tr>\n",
       "\t<tr><th scope=row>Up</th><td>1</td></tr>\n",
       "</tbody>\n",
       "</table>\n"
      ],
      "text/latex": [
       "\\begin{tabular}{r|l}\n",
       "  & Up\\\\\n",
       "\\hline\n",
       "\tDown & 0\\\\\n",
       "\tUp & 1\\\\\n",
       "\\end{tabular}\n"
      ],
      "text/markdown": [
       "\n",
       "| <!--/--> | Up | \n",
       "|---|---|\n",
       "| Down | 0 | \n",
       "| Up | 1 | \n",
       "\n",
       "\n"
      ],
      "text/plain": [
       "     Up\n",
       "Down 0 \n",
       "Up   1 "
      ]
     },
     "metadata": {},
     "output_type": "display_data"
    }
   ],
   "source": [
    "glmprobs=predict(glmfit,type=\"response\")\n",
    "glmprobs[1:10]  #As Up is denoted by 1, these probs are for the market going up\n",
    "contrasts(Direction)"
   ]
  },
  {
   "cell_type": "markdown",
   "metadata": {},
   "source": [
    "To predict whether the market will go up or down, lets convert the probabilities into class labels\n",
    "\n",
    "First create a vector with 1250 <sub>(count of original dataset)</sub> \"Down\" values. \n",
    "\n",
    "We use a threshold of 0.5, so if the calculated prob > 0.5, then the market is assumed to move upwards"
   ]
  },
  {
   "cell_type": "code",
   "execution_count": 4,
   "metadata": {
    "collapsed": false
   },
   "outputs": [
    {
     "data": {
      "text/html": [
       "<ol class=list-inline>\n",
       "\t<li>'Up'</li>\n",
       "\t<li>'Down'</li>\n",
       "\t<li>'Down'</li>\n",
       "\t<li>'Up'</li>\n",
       "\t<li>'Up'</li>\n",
       "\t<li>'Up'</li>\n",
       "</ol>\n"
      ],
      "text/latex": [
       "\\begin{enumerate*}\n",
       "\\item 'Up'\n",
       "\\item 'Down'\n",
       "\\item 'Down'\n",
       "\\item 'Up'\n",
       "\\item 'Up'\n",
       "\\item 'Up'\n",
       "\\end{enumerate*}\n"
      ],
      "text/markdown": [
       "1. 'Up'\n",
       "2. 'Down'\n",
       "3. 'Down'\n",
       "4. 'Up'\n",
       "5. 'Up'\n",
       "6. 'Up'\n",
       "\n",
       "\n"
      ],
      "text/plain": [
       "[1] \"Up\"   \"Down\" \"Down\" \"Up\"   \"Up\"   \"Up\"  "
      ]
     },
     "metadata": {},
     "output_type": "display_data"
    }
   ],
   "source": [
    "glmpred=rep(\"Down\",1250)\n",
    "glmpred[glmprobs>0.5]=\"Up\"\n",
    "head(glmpred)   #Look at some of the predictions"
   ]
  },
  {
   "cell_type": "markdown",
   "metadata": {},
   "source": [
    "Now create a **Confusion matrix** to determine how many obs were correctly classified\n",
    "\n",
    "`glmpred` contains 1250 computed predictions, and `Direction` from the DF contains 1250 actual direction values\n",
    "\n",
    "So this will tell how many observations match and how many don't"
   ]
  },
  {
   "cell_type": "code",
   "execution_count": 5,
   "metadata": {
    "collapsed": false
   },
   "outputs": [
    {
     "data": {
      "text/plain": [
       "       Direction\n",
       "glmpred Down  Up\n",
       "   Down  145 141\n",
       "   Up    457 507"
      ]
     },
     "metadata": {},
     "output_type": "display_data"
    },
    {
     "name": "stdout",
     "output_type": "stream",
     "text": [
      "Accurate Prediction Rate 0.5216"
     ]
    },
    {
     "data": {
      "text/html": [
       "0.5216"
      ],
      "text/latex": [
       "0.5216"
      ],
      "text/markdown": [
       "0.5216"
      ],
      "text/plain": [
       "[1] 0.5216"
      ]
     },
     "metadata": {},
     "output_type": "display_data"
    }
   ],
   "source": [
    "table(glmpred,Direction)\n",
    "cat('Accurate Prediction Rate', (507+145)/1250)\n",
    "mean(glmpred==Direction)"
   ]
  },
  {
   "cell_type": "markdown",
   "metadata": {},
   "source": [
    "### Analysis\n",
    "* Accurate predictions only 52% of the time\n",
    "* It doesn't look much better than random guessing\n",
    "* However, we tested the model on the **training** set, which leads to more optimistic results\n",
    "* This means the model may actually be performing worse\n",
    "* So let's now create a training set, containing data for years before 2005. Then we'll test with data 2005 onwards. The `.2005` variables contain the 2005 which will be our **test** dataset"
   ]
  },
  {
   "cell_type": "code",
   "execution_count": 6,
   "metadata": {
    "collapsed": false
   },
   "outputs": [
    {
     "data": {
      "text/html": [
       "<ol class=list-inline>\n",
       "\t<li>252</li>\n",
       "\t<li>9</li>\n",
       "</ol>\n"
      ],
      "text/latex": [
       "\\begin{enumerate*}\n",
       "\\item 252\n",
       "\\item 9\n",
       "\\end{enumerate*}\n"
      ],
      "text/markdown": [
       "1. 252\n",
       "2. 9\n",
       "\n",
       "\n"
      ],
      "text/plain": [
       "[1] 252   9"
      ]
     },
     "metadata": {},
     "output_type": "display_data"
    }
   ],
   "source": [
    "train=(Year<2005)\n",
    "Smarket.2005=Smarket[!train,]\n",
    "dim(Smarket.2005)\n",
    "Direction.2005=Direction[!train]"
   ]
  },
  {
   "cell_type": "markdown",
   "metadata": {},
   "source": [
    "Use the `subset=train` arg which will tell the `glm` function to take only data subset specified by the `train` variable above"
   ]
  },
  {
   "cell_type": "code",
   "execution_count": 7,
   "metadata": {
    "collapsed": false
   },
   "outputs": [
    {
     "data": {
      "text/plain": [
       "       Direction.2005\n",
       "glmpred Down Up\n",
       "   Down   77 97\n",
       "   Up     34 44"
      ]
     },
     "metadata": {},
     "output_type": "display_data"
    },
    {
     "data": {
      "text/html": [
       "0.51984126984127"
      ],
      "text/latex": [
       "0.51984126984127"
      ],
      "text/markdown": [
       "0.51984126984127"
      ],
      "text/plain": [
       "[1] 0.5198413"
      ]
     },
     "metadata": {},
     "output_type": "display_data"
    }
   ],
   "source": [
    "glmfit=glm(Direction~Lag1+Lag2+Lag3+Lag4+Lag5+Volume,family=binomial,data=Smarket,subset=train)\n",
    "\n",
    "glmprobs=predict(glmfit,Smarket.2005,type=\"response\")\n",
    "\n",
    "glmpred=rep(\"Down\",252)\n",
    "glmpred[glmprobs>0.5]=\"Up\"\n",
    "\n",
    "# Now compare predictions vs actual 2005 values\n",
    "table(glmpred,Direction.2005)\n",
    "\n",
    "mean(glmpred!=Direction.2005)  # Will give the total error rate"
   ]
  },
  {
   "cell_type": "markdown",
   "metadata": {},
   "source": [
    "### Analysis\n",
    "Error Rate: 52% \n",
    "\n",
    "So essentially, this is worse than simple coin-tossing\n",
    "\n",
    "Which makes sense, as it isn't plausible that the stock market can be reliably predicted by looking at previous days' prices\n",
    "\n",
    "It also makes sense because the p-values were not very impressive\n",
    "\n",
    "Let's try to remove some additional variables. It might help, as using superfluous predictors can cause deteriotation, as those predictors cause increase in variance without a corresponding decrease in bias.\n",
    "\n",
    "Let's try with just Lag1 and Lag2"
   ]
  },
  {
   "cell_type": "code",
   "execution_count": 8,
   "metadata": {
    "collapsed": false
   },
   "outputs": [
    {
     "data": {
      "text/plain": [
       "       Direction.2005\n",
       "glmpred Down  Up\n",
       "   Down   35  35\n",
       "   Up     76 106"
      ]
     },
     "metadata": {},
     "output_type": "display_data"
    },
    {
     "name": "stdout",
     "output_type": "stream",
     "text": [
      "Total Error Rate: 44.04762 %\n",
      "PPV: 58.24176 %\n",
      "Up Probability in test set:  55.95238 %"
     ]
    }
   ],
   "source": [
    "glmfit=glm(Direction~Lag1+Lag2,family=binomial,data=Smarket,subset=train)\n",
    "glmprobs=predict(glmfit,Smarket.2005,type=\"response\")\n",
    "\n",
    "glmpred=rep(\"Down\",252)\n",
    "glmpred[glmprobs>0.5]=\"Up\"\n",
    "\n",
    "# Now compare predictions vs actual 2005 values\n",
    "table(glmpred,Direction.2005)\n",
    "\n",
    "cat('Total Error Rate:',100*mean(glmpred!=Direction.2005),'%\\n')  # Will give the total error rate\n",
    "cat('PPV:',106/(106+76)*100,'%\\n')        # Will give the Positive Pred Val (PPV)\n",
    "cat('Up Probability in test set: ',mean(Direction.2005==\"Up\")*100,'%')  # How many times in the test set did the market move upwards?"
   ]
  },
  {
   "cell_type": "markdown",
   "metadata": {},
   "source": [
    "Slightly better. We get the positives *correct* 58% of the time. This is the Positive Pred Value (PPV)\n",
    "\n",
    "$$PPV = \\frac{\\sum True Positive}{\\sum All Positives} = 58.24\\% $$\n",
    "\n",
    "$$True Positive = 106 $$ \n",
    "$$All Positives = 106+76 $$\n",
    "\n",
    "\n",
    "But... in the test dataset, market moves up 56% of days. So if we just blindly \"predicted\" that that market would go Up each day, we would achieve the same \"accuracy\" \n",
    "\n",
    "Yet, let's try to see what predictions we get for a couple of combinations of Lag1 and Lag2"
   ]
  },
  {
   "cell_type": "code",
   "execution_count": 9,
   "metadata": {
    "collapsed": false
   },
   "outputs": [
    {
     "data": {
      "text/html": [
       "<dl class=dl-horizontal>\n",
       "\t<dt>1</dt>\n",
       "\t\t<dd>0.479146239171912</dd>\n",
       "\t<dt>2</dt>\n",
       "\t\t<dd>0.496093872956532</dd>\n",
       "</dl>\n"
      ],
      "text/latex": [
       "\\begin{description*}\n",
       "\\item[1] 0.479146239171912\n",
       "\\item[2] 0.496093872956532\n",
       "\\end{description*}\n"
      ],
      "text/markdown": [
       "1\n",
       ":   0.4791462391719122\n",
       ":   0.496093872956532\n",
       "\n"
      ],
      "text/plain": [
       "        1         2 \n",
       "0.4791462 0.4960939 "
      ]
     },
     "metadata": {},
     "output_type": "display_data"
    }
   ],
   "source": [
    "predict (glmfit ,newdata=data.frame(Lag1=c(1.2 ,1.5) ,Lag2=c(1.1 , -0.8) ),type =\"response\")"
   ]
  },
  {
   "cell_type": "markdown",
   "metadata": {},
   "source": [
    "Let's also see some diagnostic plots for Logistic Regression"
   ]
  },
  {
   "cell_type": "code",
   "execution_count": 10,
   "metadata": {
    "collapsed": false,
    "scrolled": false
   },
   "outputs": [
    {
     "data": {
      "image/png": "[encoded data removed]",
      "text/plain": [
       "Plot with title \"\""
      ]
     },
     "metadata": {},
     "output_type": "display_data"
    }
   ],
   "source": [
    "par(mfrow=c(2,2))\n",
    "plot(glmfit)"
   ]
  },
  {
   "cell_type": "markdown",
   "metadata": {},
   "source": [
    "# Linear Discriminant Analysis (LDA)\n",
    "Function `lda` is part of the `MASS` library\n",
    "\n",
    "Syntax is identical to `lm` and `glm`\n",
    "\n",
    "LDA uses Bayes Theorem"
   ]
  },
  {
   "cell_type": "code",
   "execution_count": 11,
   "metadata": {
    "collapsed": false
   },
   "outputs": [
    {
     "data": {
      "text/plain": [
       "Call:\n",
       "lda(Direction ~ Lag1 + Lag2, data = Smarket, subset = train)\n",
       "\n",
       "Prior probabilities of groups:\n",
       "    Down       Up \n",
       "0.491984 0.508016 \n",
       "\n",
       "Group means:\n",
       "            Lag1        Lag2\n",
       "Down  0.04279022  0.03389409\n",
       "Up   -0.03954635 -0.03132544\n",
       "\n",
       "Coefficients of linear discriminants:\n",
       "            LD1\n",
       "Lag1 -0.6420190\n",
       "Lag2 -0.5135293"
      ]
     },
     "metadata": {},
     "output_type": "display_data"
    }
   ],
   "source": [
    "library(MASS)\n",
    "ldafit=lda(Direction~Lag1+Lag2,data=Smarket ,subset =train)\n",
    "ldafit"
   ]
  },
  {
   "cell_type": "markdown",
   "metadata": {},
   "source": [
    "### Analysis\n",
    "\n",
    "#### `Prior Probabilities`: $\\hat\\pi_{down} = 0.492, \\hat\\pi_{up} = 0.508$\n",
    "* Which means that in the training set, it goes up 50.8% of the time\n",
    "\n",
    "#### `Group Means`: Average of each predictor in each class\n",
    "* Group means for Down/Lag1 and Down/Lag2 are positive, which means that the market usually goes down if it went up (+ve) the previous two days\n",
    "* Group means for Up are negative, which means that the market usually goes up if it went down (-ve) the previous two days\n",
    "\n",
    "#### `Coefficients`: Linear combinations of `Lag1` and `Lag2` used for LDA Decision Rule\n",
    "If $-0.642 \\times Lag1 + (-0.514) \\times Lag2$ is large, then it predicts that the market will go ***Up***. Otherwise it predicts that the market will go ***Down***.\n",
    "\n",
    "Let's plot the LDA fit"
   ]
  },
  {
   "cell_type": "code",
   "execution_count": 12,
   "metadata": {
    "collapsed": false
   },
   "outputs": [
    {
     "data": {
      "image/png": "[encoded data removed]",
      "text/plain": [
       "plot without title"
      ]
     },
     "metadata": {},
     "output_type": "display_data"
    }
   ],
   "source": [
    "plot(ldafit)"
   ]
  },
  {
   "cell_type": "markdown",
   "metadata": {},
   "source": [
    "The `predict` fn gives a list with 3 elements. `Class` gives the LDA predictions. `Posterior` is a matrix, the *k*th column contains the *posterior* probability that the obs belongs to the *k*th class. And `x` contains the linear discriminants"
   ]
  },
  {
   "cell_type": "code",
   "execution_count": 13,
   "metadata": {
    "collapsed": false,
    "scrolled": true
   },
   "outputs": [
    {
     "data": {
      "text/html": [
       "<ol class=list-inline>\n",
       "\t<li>'class'</li>\n",
       "\t<li>'posterior'</li>\n",
       "\t<li>'x'</li>\n",
       "</ol>\n"
      ],
      "text/latex": [
       "\\begin{enumerate*}\n",
       "\\item 'class'\n",
       "\\item 'posterior'\n",
       "\\item 'x'\n",
       "\\end{enumerate*}\n"
      ],
      "text/markdown": [
       "1. 'class'\n",
       "2. 'posterior'\n",
       "3. 'x'\n",
       "\n",
       "\n"
      ],
      "text/plain": [
       "[1] \"class\"     \"posterior\" \"x\"        "
      ]
     },
     "metadata": {},
     "output_type": "display_data"
    },
    {
     "data": {
      "text/plain": [
       "        Direction.2005\n",
       "ldaclass Down  Up\n",
       "    Down   35  35\n",
       "    Up     76 106"
      ]
     },
     "metadata": {},
     "output_type": "display_data"
    },
    {
     "name": "stdout",
     "output_type": "stream",
     "text": [
      "Error Rate: 44 %\n"
     ]
    },
    {
     "data": {
      "text/html": [
       "70"
      ],
      "text/latex": [
       "70"
      ],
      "text/markdown": [
       "70"
      ],
      "text/plain": [
       "[1] 70"
      ]
     },
     "metadata": {},
     "output_type": "display_data"
    },
    {
     "data": {
      "text/html": [
       "70"
      ],
      "text/latex": [
       "70"
      ],
      "text/markdown": [
       "70"
      ],
      "text/plain": [
       "[1] 70"
      ]
     },
     "metadata": {},
     "output_type": "display_data"
    },
    {
     "data": {
      "text/html": [
       "0"
      ],
      "text/latex": [
       "0"
      ],
      "text/markdown": [
       "0"
      ],
      "text/plain": [
       "[1] 0"
      ]
     },
     "metadata": {},
     "output_type": "display_data"
    }
   ],
   "source": [
    "ldapred=predict(ldafit,Smarket.2005)\n",
    "names(ldapred)\n",
    "\n",
    "ldaclass=ldapred$class   #Predictions\n",
    "table(ldaclass,Direction.2005)\n",
    "\n",
    "cat('Error Rate:',round(mean(ldaclass!=Direction.2005)*100),'%\\n')\n",
    "\n",
    "\n",
    "sum(ldapred$posterior[,\"Down\"]>=0.5)                      #The posterior probs of going Down, threshold = 0.5\n",
    "length(ldapred$class[ldapred$class==\"Down\"])\n",
    "\n",
    "sum(ldapred$posterior[,\"Down\"]>=0.9)                      #The posterior probs of going Down, threshold = 0.9"
   ]
  },
  {
   "cell_type": "markdown",
   "metadata": {},
   "source": [
    "# Quadratic Discriminant Analysis (QDA)\n",
    "Use `qda` function, syntax identical to LDA"
   ]
  },
  {
   "cell_type": "code",
   "execution_count": 14,
   "metadata": {
    "collapsed": false
   },
   "outputs": [
    {
     "data": {
      "text/plain": [
       "Call:\n",
       "qda(Direction ~ Lag1 + Lag2, data = Smarket, subset = train)\n",
       "\n",
       "Prior probabilities of groups:\n",
       "    Down       Up \n",
       "0.491984 0.508016 \n",
       "\n",
       "Group means:\n",
       "            Lag1        Lag2\n",
       "Down  0.04279022  0.03389409\n",
       "Up   -0.03954635 -0.03132544"
      ]
     },
     "metadata": {},
     "output_type": "display_data"
    }
   ],
   "source": [
    "qdafit=qda(Direction~Lag1+Lag2,data=Smarket,subset=train)\n",
    "qdafit"
   ]
  },
  {
   "cell_type": "markdown",
   "metadata": {},
   "source": [
    "### Analysis\n",
    "* Similar to LDA fit, but there are no coefficients, as QDA doesn't have linear coefs"
   ]
  },
  {
   "cell_type": "code",
   "execution_count": 15,
   "metadata": {
    "collapsed": false
   },
   "outputs": [
    {
     "data": {
      "text/plain": [
       "        Direction.2005\n",
       "qdaclass Down  Up\n",
       "    Down   30  20\n",
       "    Up     81 121"
      ]
     },
     "metadata": {},
     "output_type": "display_data"
    },
    {
     "name": "stdout",
     "output_type": "stream",
     "text": [
      "Error rate:  40 %\n"
     ]
    }
   ],
   "source": [
    "qdaclass=predict(qdafit,Smarket.2005)$class\n",
    "\n",
    "table(qdaclass,Direction.2005)\n",
    "cat('Error rate: ',round(100*mean(qdaclass!=Direction.2005)),'%\\n')"
   ]
  },
  {
   "cell_type": "markdown",
   "metadata": {},
   "source": [
    "### Analysis\n",
    "Error rate is only 40%. Impressive as this is stock market data, which is very hard to predict. \n",
    "\n",
    "Possibly, QDA models the true nature of the fit better than LDA/LogReg"
   ]
  },
  {
   "cell_type": "markdown",
   "metadata": {},
   "source": [
    "# KNN\n",
    "The `knn` fn is part of the `class` library\n",
    "\n",
    "Works differently. Instead of first fitting the model and then use it to make predictions, we can form predictions using a single command\n",
    "\n",
    "Four inputs needed:\n",
    "1. A matrix with predictors for the *training* data\n",
    "2. A matrix with predictors for the *test* data\n",
    "3. A vector with class labels for the *training* observations\n",
    "4. A value for *K*, i.e. the number of nearest neighbors to be considered"
   ]
  },
  {
   "cell_type": "code",
   "execution_count": 16,
   "metadata": {
    "collapsed": true
   },
   "outputs": [],
   "source": [
    "library(class)\n",
    "train.X=cbind(Lag1,Lag2)[train,]\n",
    "test.X=cbind(Lag1,Lag2)[!train,]\n",
    "train.Direction=Direction[train]"
   ]
  },
  {
   "cell_type": "markdown",
   "metadata": {},
   "source": [
    "We need to set a defined random seed. Because if KNN finds multiple observations tied as nearest neighbors, it will select one at random. So to ensure reproducibility of results, some constant seed should be set.\n",
    "\n",
    "Let's begin by setting *K*=1"
   ]
  },
  {
   "cell_type": "code",
   "execution_count": 17,
   "metadata": {
    "collapsed": false
   },
   "outputs": [
    {
     "data": {
      "text/plain": [
       "       Direction.2005\n",
       "knnpred Down Up\n",
       "   Down   43 58\n",
       "   Up     68 83"
      ]
     },
     "metadata": {},
     "output_type": "display_data"
    },
    {
     "data": {
      "text/html": [
       "50"
      ],
      "text/latex": [
       "50"
      ],
      "text/markdown": [
       "50"
      ],
      "text/plain": [
       "[1] 50"
      ]
     },
     "metadata": {},
     "output_type": "display_data"
    }
   ],
   "source": [
    "set.seed(1)\n",
    "knnpred=knn(train.X,test.X,train.Direction,k=1)\n",
    "\n",
    "table(knnpred,Direction.2005)\n",
    "\n",
    "(83+43)*100/252   # TruePositive+TrueNegative/Total% in Test set"
   ]
  },
  {
   "cell_type": "markdown",
   "metadata": {},
   "source": [
    "### Analysis\n",
    "* Not too good, equivalent to a coin toss\n",
    "* Because K=1 results in high variance and flexibility\n",
    "* Let's try with K=3"
   ]
  },
  {
   "cell_type": "code",
   "execution_count": 18,
   "metadata": {
    "collapsed": false
   },
   "outputs": [
    {
     "data": {
      "text/plain": [
       "       Direction.2005\n",
       "knnpred Down Up\n",
       "   Down   48 54\n",
       "   Up     63 87"
      ]
     },
     "metadata": {},
     "output_type": "display_data"
    },
    {
     "data": {
      "text/html": [
       "53.5714285714286"
      ],
      "text/latex": [
       "53.5714285714286"
      ],
      "text/markdown": [
       "53.5714285714286"
      ],
      "text/plain": [
       "[1] 53.57143"
      ]
     },
     "metadata": {},
     "output_type": "display_data"
    }
   ],
   "source": [
    "knnpred=knn(train.X,test.X,train.Direction,k=3)\n",
    "\n",
    "table(knnpred,Direction.2005)\n",
    "\n",
    "(87+48)*100/252   # TruePositive+TrueNegative/Total% in Test set"
   ]
  },
  {
   "cell_type": "markdown",
   "metadata": {},
   "source": [
    "Somewhat better"
   ]
  },
  {
   "cell_type": "markdown",
   "metadata": {},
   "source": [
    "# Compare All 4 methods\n",
    "\n",
    "KPI for comparing is Accuracy, defined as \n",
    "$$Accuracy = \\frac {\\sum True Positive + \\sum True Positive}{\\sum Test Population}$$\n",
    "\n",
    "Based on these, QDA appears to provide the best fit "
   ]
  },
  {
   "cell_type": "code",
   "execution_count": 19,
   "metadata": {
    "collapsed": false
   },
   "outputs": [
    {
     "data": {
      "text/html": [
       "<table>\n",
       "<thead><tr><th scope=col>name</th><th scope=col>acc</th></tr></thead>\n",
       "<tbody>\n",
       "\t<tr><td>Logistic Regression</td><td>56                 </td></tr>\n",
       "\t<tr><td>LDA</td><td>56 </td></tr>\n",
       "\t<tr><td>QDA</td><td>60 </td></tr>\n",
       "\t<tr><td>KNN</td><td>54 </td></tr>\n",
       "</tbody>\n",
       "</table>\n"
      ],
      "text/latex": [
       "\\begin{tabular}{ll}\n",
       " name & acc\\\\\n",
       "\\hline\n",
       "\t Logistic Regression & 56                 \\\\\n",
       "\t LDA & 56 \\\\\n",
       "\t QDA & 60 \\\\\n",
       "\t KNN & 54 \\\\\n",
       "\\end{tabular}\n"
      ],
      "text/markdown": [
       "\n",
       "name | acc | \n",
       "|---|---|---|---|\n",
       "| Logistic Regression | 56                  | \n",
       "| LDA | 56  | \n",
       "| QDA | 60  | \n",
       "| KNN | 54  | \n",
       "\n",
       "\n"
      ],
      "text/plain": [
       "     name                acc\n",
       "[1,] Logistic Regression 56 \n",
       "[2,] LDA                 56 \n",
       "[3,] QDA                 60 \n",
       "[4,] KNN                 54 "
      ]
     },
     "metadata": {},
     "output_type": "display_data"
    }
   ],
   "source": [
    "accuracy=cbind(name=\"Logistic Regression\",acc=round(mean(glmpred==Direction.2005)*100))\n",
    "accuracy=rbind(accuracy,list(name=\"LDA\",acc=round(mean(ldapred$class==Direction.2005)*100)))\n",
    "accuracy=rbind(accuracy,list(name=\"QDA\",acc=round(mean(qdaclass==Direction.2005)*100)))\n",
    "accuracy=rbind(accuracy,list(name=\"KNN\",acc=round(mean(knnpred==Direction.2005)*100)))\n",
    "\n",
    "accuracy"
   ]
  },
  {
   "cell_type": "markdown",
   "metadata": {},
   "source": [
    "# KNN on Caravan Dataset\n",
    "\n",
    "Dataset has 85 predictors to measure demographics for 5822 people. Response variable is Purchase, indicates whether the person bought a Caravan insurance. In the dataset, only 6% people actually bought it.t"
   ]
  },
  {
   "cell_type": "code",
   "execution_count": null,
   "metadata": {
    "collapsed": true
   },
   "outputs": [],
   "source": [
    "dim(Caravan)\n",
    "attach(Caravan)"
   ]
  },
  {
   "cell_type": "code",
   "execution_count": 22,
   "metadata": {
    "collapsed": false
   },
   "outputs": [
    {
     "data": {
      "text/html": [
       "<dl class=dl-horizontal>\n",
       "\t<dt>No</dt>\n",
       "\t\t<dd>5474</dd>\n",
       "\t<dt>Yes</dt>\n",
       "\t\t<dd>348</dd>\n",
       "</dl>\n"
      ],
      "text/latex": [
       "\\begin{description*}\n",
       "\\item[No] 5474\n",
       "\\item[Yes] 348\n",
       "\\end{description*}\n"
      ],
      "text/markdown": [
       "No\n",
       ":   5474Yes\n",
       ":   348\n",
       "\n"
      ],
      "text/plain": [
       "  No  Yes \n",
       "5474  348 "
      ]
     },
     "metadata": {},
     "output_type": "display_data"
    }
   ],
   "source": [
    "summary(Purchase)"
   ]
  },
  {
   "cell_type": "markdown",
   "metadata": {},
   "source": [
    "KNN predicts the class using the Euclidean distance. So scale matters. For example, if there are predictor variables like salary and age, then a difference of $1000 in salary far outweights a difference of 70y in age.\n",
    "\n",
    "So if you do a KNN considering salary and age, then salary will dominate the prediction results, age will be pretty much ignored in comparison.\n",
    "\n",
    "Yet in real life, a difference of 70y is a much bigger difference in relative terms than a $1000 diff in salary\n",
    "\n",
    "So we should standardize the variables. The `scale` function does that. It manipulates all variables so they have a Mean of 0 and an SD of 1. We'll do it for all columns except the 86th (which is the Purchase variable)"
   ]
  },
  {
   "cell_type": "code",
   "execution_count": 25,
   "metadata": {
    "collapsed": false
   },
   "outputs": [
    {
     "data": {
      "text/html": [
       "165.037847395189"
      ],
      "text/latex": [
       "165.037847395189"
      ],
      "text/markdown": [
       "165.037847395189"
      ],
      "text/plain": [
       "[1] 165.0378"
      ]
     },
     "metadata": {},
     "output_type": "display_data"
    },
    {
     "data": {
      "text/html": [
       "0.164707781931954"
      ],
      "text/latex": [
       "0.164707781931954"
      ],
      "text/markdown": [
       "0.164707781931954"
      ],
      "text/plain": [
       "[1] 0.1647078"
      ]
     },
     "metadata": {},
     "output_type": "display_data"
    },
    {
     "data": {
      "text/html": [
       "1"
      ],
      "text/latex": [
       "1"
      ],
      "text/markdown": [
       "1"
      ],
      "text/plain": [
       "[1] 1"
      ]
     },
     "metadata": {},
     "output_type": "display_data"
    }
   ],
   "source": [
    "standardized.X = scale(Caravan[,-86])\n",
    "var(Caravan[,1])\n",
    "var(Caravan[,2])\n",
    "var(standardized.X[,1])"
   ]
  },
  {
   "cell_type": "code",
   "execution_count": null,
   "metadata": {
    "collapsed": true
   },
   "outputs": [],
   "source": [
    "test=1:1000\n",
    "train.X=standardized.X[-test,]\n",
    "test.X=standardized.X[test,]\n",
    "train.Y=Purchase[-test]\n",
    "test.Y=Purchase[test]\n",
    "\n",
    "set.seed(1)"
   ]
  },
  {
   "cell_type": "markdown",
   "metadata": {},
   "source": [
    "Let's create a helper function that will help in running KNN for multiple K values"
   ]
  },
  {
   "cell_type": "code",
   "execution_count": 72,
   "metadata": {
    "collapsed": true
   },
   "outputs": [],
   "source": [
    "doknn=function(k){\n",
    "    knnpred=knn(train.X,test.X,train.Y,k=k)\n",
    "    cat(\"K=\",k,\"\\n\")\n",
    "    cat(\"Error Rate of prediction:\\t\\t\",mean(test.Y!=knnpred),\"\\n\\n\")   # Error rate of prediction\n",
    "    print(table(test.Y,knnpred))\n",
    "    cat(\"\\nPPV (KNN,k=\",k,\"):\\t\\t\",sum(test.Y==\"Yes\" & knnpred ==\"Yes\")*100/sum(knnpred==\"Yes\"),\"%\\n\")\n",
    "    cat(\"PPV (always predict 'Yes'):\\t\",sum(test.Y==\"Yes\")*100/length(test.Y),\"%\")    \n",
    "}"
   ]
  },
  {
   "cell_type": "code",
   "execution_count": 73,
   "metadata": {
    "collapsed": false
   },
   "outputs": [
    {
     "name": "stdout",
     "output_type": "stream",
     "text": [
      "K= 1 \n",
      "Error Rate of prediction:\t\t 0.118 \n",
      "\n",
      "      knnpred\n",
      "test.Y  No Yes\n",
      "   No  873  68\n",
      "   Yes  50   9\n",
      "\n",
      "PPV (KNN,k= 1 ):\t\t 11.68831 %\n",
      "PPV (always predict 'Yes'):\t 5.9 %"
     ]
    }
   ],
   "source": [
    "doknn(1)"
   ]
  },
  {
   "cell_type": "markdown",
   "metadata": {},
   "source": [
    "So blindly predicting \"No\" gives an error rate of 6%, but KNN gives an error of 12%!\n",
    "\n",
    "But let's say that there's a cost for pitching insurance to a customer. So, our objective is to control the cost - which means we must get it right when we say somebody will buy insurance. In other words, Positive Predictive Value (True Positive/Total Predicted Positive) should be maximized. Let's analyze that\n",
    "\n",
    "\n",
    "\n",
    "So 12% of the people predicted by KNN will actually end up buying insurance. As opposed to 6% if we blindly predicted \"Yes\". That's some improvement\n",
    "\n",
    "Now let's try with K=3"
   ]
  },
  {
   "cell_type": "code",
   "execution_count": 74,
   "metadata": {
    "collapsed": false
   },
   "outputs": [
    {
     "name": "stdout",
     "output_type": "stream",
     "text": [
      "K= 3 \n",
      "Error Rate of prediction:\t\t 0.073 \n",
      "\n",
      "      knnpred\n",
      "test.Y  No Yes\n",
      "   No  922  19\n",
      "   Yes  54   5\n",
      "\n",
      "PPV (KNN,k= 3 ):\t\t 20.83333 %\n",
      "PPV (always predict 'Yes'):\t 5.9 %"
     ]
    }
   ],
   "source": [
    "doknn(3)"
   ]
  },
  {
   "cell_type": "markdown",
   "metadata": {},
   "source": [
    "Even better! Let's try with K=5"
   ]
  },
  {
   "cell_type": "code",
   "execution_count": 75,
   "metadata": {
    "collapsed": false
   },
   "outputs": [
    {
     "name": "stdout",
     "output_type": "stream",
     "text": [
      "K= 5 \n",
      "Error Rate of prediction:\t\t 0.066 \n",
      "\n",
      "      knnpred\n",
      "test.Y  No Yes\n",
      "   No  930  11\n",
      "   Yes  55   4\n",
      "\n",
      "PPV (KNN,k= 5 ):\t\t 26.66667 %\n",
      "PPV (always predict 'Yes'):\t 5.9 %"
     ]
    }
   ],
   "source": [
    "doknn(5)"
   ]
  },
  {
   "cell_type": "markdown",
   "metadata": {},
   "source": [
    "Let's also try Logistic Regression, with cutoffs at 0.5 and 0.25. TO begin with, let's create a helper function"
   ]
  },
  {
   "cell_type": "code",
   "execution_count": 94,
   "metadata": {
    "collapsed": false
   },
   "outputs": [],
   "source": [
    "do_glm = function(cutoff){\n",
    "    glm.fit=glm(Purchase~.,data=Caravan,family=binomial,subset=-test)\n",
    "    \n",
    "    glm.probs=predict(glm.fit,Caravan[test,],type=\"response\")\n",
    "    \n",
    "    glm.pred=rep(\"No\",1000)\n",
    "    \n",
    "    glm.pred[glm.probs>cutoff]=\"Yes\"\n",
    "    \n",
    "    cat(\"Cutoff=\",cutoff)\n",
    "    cat(\"\\n\")\n",
    "    print(table(glm.pred,test.Y))\n",
    "    cat(\"\\n\")\n",
    "    \n",
    "    cat(\"\\nPPV (Cutoff=\",cutoff,\"):\\t\\t\",\n",
    "        sum(test.Y==\"Yes\" & glm.pred ==\"Yes\")*100/sum(glm.pred==\"Yes\"),\"%\\n\")\n",
    "}"
   ]
  },
  {
   "cell_type": "code",
   "execution_count": 95,
   "metadata": {
    "collapsed": false
   },
   "outputs": [
    {
     "name": "stderr",
     "output_type": "stream",
     "text": [
      "Warning message:\n",
      "\"glm.fit: fitted probabilities numerically 0 or 1 occurred\""
     ]
    },
    {
     "name": "stdout",
     "output_type": "stream",
     "text": [
      "Cutoff= 0.5\n",
      "        test.Y\n",
      "glm.pred  No Yes\n",
      "     No  934  59\n",
      "     Yes   7   0\n",
      "\n",
      "\n",
      "PPV (Cutoff= 0.5 ):\t\t 0 %\n"
     ]
    },
    {
     "name": "stderr",
     "output_type": "stream",
     "text": [
      "Warning message:\n",
      "\"glm.fit: fitted probabilities numerically 0 or 1 occurred\""
     ]
    },
    {
     "name": "stdout",
     "output_type": "stream",
     "text": [
      "Cutoff= 0.25\n",
      "        test.Y\n",
      "glm.pred  No Yes\n",
      "     No  919  48\n",
      "     Yes  22  11\n",
      "\n",
      "\n",
      "PPV (Cutoff= 0.25 ):\t\t 33.33333 %\n"
     ]
    }
   ],
   "source": [
    "do_glm(0.5)\n",
    "do_glm(0.25)"
   ]
  }
 ],
 "metadata": {
  "kernelspec": {
   "display_name": "R",
   "language": "R",
   "name": "ir"
  },
  "language_info": {
   "codemirror_mode": "r",
   "file_extension": ".r",
   "mimetype": "text/x-r-source",
   "name": "R",
   "pygments_lexer": "r",
   "version": "3.3.1"
  }
 },
 "nbformat": 4,
 "nbformat_minor": 2
}
